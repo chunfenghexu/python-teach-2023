{
 "cells": [
  {
   "cell_type": "markdown",
   "metadata": {},
   "source": [
    "# 9大经典排序算法\n",
    "![](./images/9大排序算法比较.png) "
   ]
  },
  {
   "cell_type": "markdown",
   "metadata": {},
   "source": [
    "# 归并排序\n",
    "![](./images/归并排序.webp)\n",
    "\n",
    "\n",
    "递推公式：\n",
    "```\n",
    "merge_sort(p…r) = merge(merge_sort(p…q),merge_sort(q+1…r))\n",
    "\n",
    "终止条件：\n",
    "p >= r 不用再继续分解\n",
    "```\n",
    "\n",
    "merge函数：合并两个有序数组\n",
    "![](./images/merge操作.webp)"
   ]
  },
  {
   "cell_type": "code",
   "execution_count": 4,
   "metadata": {},
   "outputs": [],
   "source": [
    "import random"
   ]
  },
  {
   "cell_type": "code",
   "execution_count": 5,
   "metadata": {},
   "outputs": [
    {
     "data": {
      "text/plain": [
       "[8, 1, 9, 1, 2, 1, 6, 4, 7, 1]"
      ]
     },
     "execution_count": 5,
     "metadata": {},
     "output_type": "execute_result"
    }
   ],
   "source": [
    "l = [random.randint(1,10) for i in range(10)] \n",
    "l"
   ]
  },
  {
   "cell_type": "markdown",
   "metadata": {},
   "source": [
    "# 作业1： 添加哨兵，优化一下这块代码。（单调栈）\n",
    "给定了一个序列，要找序列中元素右边（或左边）第一个比他大（或小）的值（或者位置）\n",
    "# 作业2：你可以去实现一下merge_sort带返回值的代码"
   ]
  },
  {
   "cell_type": "code",
   "execution_count": 8,
   "metadata": {},
   "outputs": [],
   "source": [
    "#code\n",
    "# 局部变量一旦出了局部作用域，那么它的空间就释放掉了\n",
    "def merge(l,p,q,r):\n",
    "    temp_l = [0 for i in range(r-p+1)] # 消耗了一个O(n)的空间复杂度\n",
    "    temp_i = 0\n",
    "    i,j = p,q+1\n",
    "    while i!=q+1 and j!=r+1:\n",
    "        if l[i] <= l[j]:\n",
    "            temp_l[temp_i]=l[i]\n",
    "            i+=1\n",
    "        else:\n",
    "            temp_l[temp_i]=l[j]\n",
    "            j+=1\n",
    "        temp_i+=1\n",
    "    while j!=r+1:\n",
    "        temp_l[temp_i] = l[j]\n",
    "        temp_i+=1\n",
    "        j+=1\n",
    "    while i!=q+1:\n",
    "        temp_l[temp_i] = l[i]\n",
    "        temp_i+=1\n",
    "        i+=1\n",
    "    for k in range(r-p+1):\n",
    "        l[p+k] = temp_l[k] # 已经改变了l\n",
    "# T(n) = 2 * T(n/2) + O(n)\n",
    "def mergeSort_recur(l,p,r):\n",
    "    if p >= r:\n",
    "        return # 为何return没有带返回值\n",
    "    else:\n",
    "        # 这里相对于是二叉树的后序遍历\n",
    "        # 先分在治\n",
    "        mergeSort_recur(l,p,(p+r)//2)   # post_order(root.left)\n",
    "        mergeSort_recur(l,(p+r)//2+1,r) # post_order(root.right)\n",
    "        # merge\n",
    "        merge(l,p,(p+r)//2,r) # print(root.val)\n",
    "def mergeSort(l,n):\n",
    "    return mergeSort_recur(l,0,n-1)\n",
    "    "
   ]
  },
  {
   "cell_type": "code",
   "execution_count": 6,
   "metadata": {},
   "outputs": [
    {
     "name": "stdout",
     "output_type": "stream",
     "text": [
      "[1, 1, 1, 1, 2, 4, 6, 7, 8, 9]\n"
     ]
    }
   ],
   "source": [
    "l_c = l[:]\n",
    "mergeSort(l_c,len(l_c))\n",
    "print(l_c)"
   ]
  },
  {
   "cell_type": "markdown",
   "metadata": {},
   "source": [
    "# 作业1：利用哨兵机制去简化merge函数的代码"
   ]
  },
  {
   "cell_type": "markdown",
   "metadata": {},
   "source": [
    "# 归并排序性能分析\n",
    "- 原地排序？\n",
    "- 稳定性？\n",
    "- 时间复杂度？"
   ]
  },
  {
   "cell_type": "markdown",
   "metadata": {},
   "source": [
    "# 思考题01：归并排序的空间复杂度是多少呢？是否和时间复杂度一样？\n",
    "空间复杂度是O(n)，而不是O(nlogn)"
   ]
  },
  {
   "cell_type": "markdown",
   "metadata": {},
   "source": [
    "# 快速排序\n",
    "\n",
    "快排的核心思想是这样的：\n",
    "1. 如果要排序数组中下标从 p 到 r 之间的一组数据，我们选择 p 到 r 之间的任意一个数据作为 pivot（分区点）。\n",
    "2. 我们遍历 p 到 r 之间的数据，将小于 pivot 的放到左边，将大于 pivot 的放到右边，将 pivot 放到中间。经过这一步骤之后，数组 p 到 r 之间的数据就被分成了三个部分，前面 p 到 q-1 之间都是小于 pivot 的，中间是 pivot，后面的 q+1 到 r 之间是大于 pivot 的。\n",
    "\n",
    "![](./images/分区操作.webp)\n",
    "\n",
    "根据分治、递归的处理思想，我们可以用递归排序下标从 p 到 q-1 之间的数据和下标从 q+1 到 r 之间的数据，直到区间缩小为 1，就说明所有的数据都有序了\n",
    "\n",
    "### 递推公式：\n",
    "```\n",
    "quick_sort(p…r) = quick_sort(p…q-1) + quick_sort(q+1… r)\n",
    "\n",
    "终止条件：\n",
    "p >= r\n",
    "```\n",
    "### partition函数\n",
    "如何设计分区函数呢？我们可以像归并排序的merge函数那样，简单处理。\n",
    "![](./images/分区函数-简单设计.webp)\n",
    "但是这样的处理，需要很多额外的内存空间开销，那么快速排序就不是原地排序算法了。\n",
    "\n",
    "分区函数还有一个更为巧妙的设计：\n",
    "![](./images/分区函数-精妙设计.webp)\n",
    "这里的处理有点类似选择排序。我们通过游标 i 把 A[p...r-1]分成两部分。A[p...i-1]的元素都是小于 pivot 的，我们暂且叫它“已处理区间”，A[i...r-1]是“未处理区间”。我们每次都从未处理的区间 A[i...r-1]中取一个元素 A[j]，与 pivot 对比，如果小于 pivot，则将其加入到已处理区间的尾部，也就是 A[i]的位置。"
   ]
  },
  {
   "cell_type": "code",
   "execution_count": 9,
   "metadata": {},
   "outputs": [],
   "source": [
    "def partition(l,p,r):\n",
    "    i,j = p,p\n",
    "    while j!=r:\n",
    "        if l[j] < l[r]:\n",
    "            l[i],l[j]=l[j],l[i]\n",
    "            i += 1\n",
    "        j += 1\n",
    "    l[i],l[r] = l[r],l[i]\n",
    "    return i\n",
    "# T(n) = ... = O(nlogn)\n",
    "def quickSort_recur(l,p,r):\n",
    "    if p>=r:\n",
    "        return\n",
    "    else:\n",
    "        # 先治在分\n",
    "        q = partition(l,p,r) # print(root.val)\n",
    "        quickSort_recur(l,p,q-1)\n",
    "        quickSort_recur(l,q+1,r) \n",
    "def quickSort(l,n):\n",
    "    return quickSort_recur(l,0,n-1)"
   ]
  },
  {
   "cell_type": "code",
   "execution_count": 8,
   "metadata": {},
   "outputs": [
    {
     "name": "stdout",
     "output_type": "stream",
     "text": [
      "Wall time: 0 ns\n",
      "[1, 2, 2, 3, 5, 6, 6, 7, 9, 9]\n"
     ]
    }
   ],
   "source": [
    "l_c = l[:]\n",
    "%time quickSort(l_c,len(l_c))\n",
    "print(l_c)"
   ]
  },
  {
   "cell_type": "markdown",
   "metadata": {},
   "source": [
    "# 快速排序性能分析\n",
    "- 原地排序？\n",
    "- 稳定性？\n",
    "- 时间复杂度？"
   ]
  },
  {
   "cell_type": "markdown",
   "metadata": {},
   "source": [
    "# 思考题02：快速排序是一种稳定的排序吗？"
   ]
  },
  {
   "cell_type": "markdown",
   "metadata": {},
   "source": [
    "# 归并排序与快速排序性能对比\n",
    "![](./images/归并-快排对比图.webp)\n",
    "\n",
    "归并排序的处理过程是由下到上的，先处理子问题，然后再合并。而快排正好相反，它的处理过程是由上到下的，先分区，然后再处理子问题。\n",
    "\n",
    "<b style=\"color:red\">类比我们二叉树部分学的，后序遍历（归并）和前序遍历（快排）</b>"
   ]
  },
  {
   "cell_type": "markdown",
   "metadata": {},
   "source": [
    "# 思考题03：学习了快排的分区思想，尝试解决一下这个问题。\n",
    "一次分区是不是可以确定一个元素的位置。\n",
    "\n",
    "> 如何在O(n) 时间复杂度内求无序数组中的第 K 大元素。比如，4， 2， 5， 12， 3 这样一组数据，第 3 大元素就是 4。"
   ]
  },
  {
   "cell_type": "markdown",
   "metadata": {},
   "source": [
    "# 作业：实现一下找第K大元素 "
   ]
  },
  {
   "cell_type": "markdown",
   "metadata": {},
   "source": [
    "# 堆排序\n",
    "（我们单独一节讲堆排序，因为堆排序涉及到了二叉树的结构，是相对比较复杂的一种排序算法）"
   ]
  },
  {
   "cell_type": "markdown",
   "metadata": {},
   "source": [
    "# 答案01：\n",
    "这里很容易将归并排序的空间复杂度认为也是O(nlogn)，其实不是的。\n",
    "实际上，递归代码的空间复杂度并不能像时间复杂度那样累加。尽管每次合并操作都需要申请额外的内存空间，但在合并完成之后，临时开辟的内存空间就被释放掉了。在任意时刻，CPU 只会有一个函数在执行，也就只会有一个临时的内存空间在使用。临时内存空间最大也不会超过 n 个数据的大小，所以空间复杂度是 O(n)。"
   ]
  },
  {
   "cell_type": "markdown",
   "metadata": {},
   "source": [
    "# 答案02：\n",
    "因为分区的过程涉及交换操作，如果数组中有两个相同的元素，比如序列 6，8，7，6，3，5，9，4，在经过第一次分区操作之后，两个 6 的相对先后顺序就会改变。所以，快速排序并不是一个稳定的排序算法。"
   ]
  },
  {
   "cell_type": "markdown",
   "metadata": {},
   "source": [
    "# 答案03：\n",
    "利用分区思想！\n",
    "```\n",
    "我们选择数组区间 A[0...n-1]的最后一个元素 A[n-1]作为 pivot，对数组 A[0...n-1]原地分区，这样数组就分成了三部分，A[0...p-1]、A[p]、A[p+1...n-1]。如果 p+1=K，那 A[p]就是要求解的元素；如果 K>p+1, 说明第 K 大元素出现在 A[p+1...n-1]区间，我们再按照上面的思路递归地在 A[p+1...n-1]这个区间内查找。同理，如果 K<p+1，那我们就在 A[0...p-1]区间查找。\n",
    "```\n",
    "![](./images/找第k个大元素.webp)\n",
    "\n",
    "$$\n",
    "    n + n/2 + n/4 + n/8 + ... + 1 = 2n-1 \\approx O(n)  \\\\\n",
    "    n ( 2^0 + 2^{-1} + 2^{-2} + ... + 1/n ) \\\\\n",
    "    = n ( \\frac{1-(2^{-1})^{k+1}}{1-2^{-1}} )  ,其中 n = 2^k \\\\\n",
    "    = 2n ( 1-\\frac{1}{2^{k+1}} ) \\\\\n",
    "    = 2n ( 1-\\frac{1}{2n} ) \\\\\n",
    "    = 2n - 1 \n",
    "$$"
   ]
  }
 ],
 "metadata": {
  "kernelspec": {
   "display_name": "Python 3",
   "language": "python",
   "name": "python3"
  },
  "language_info": {
   "codemirror_mode": {
    "name": "ipython",
    "version": 3
   },
   "file_extension": ".py",
   "mimetype": "text/x-python",
   "name": "python",
   "nbconvert_exporter": "python",
   "pygments_lexer": "ipython3",
   "version": "3.8.5"
  },
  "latex_envs": {
   "LaTeX_envs_menu_present": true,
   "autoclose": false,
   "autocomplete": true,
   "bibliofile": "biblio.bib",
   "cite_by": "apalike",
   "current_citInitial": 1,
   "eqLabelWithNumbers": true,
   "eqNumInitial": 1,
   "hotkeys": {
    "equation": "Ctrl-E",
    "itemize": "Ctrl-I"
   },
   "labels_anchors": false,
   "latex_user_defs": false,
   "report_style_numbering": false,
   "user_envs_cfg": false
  }
 },
 "nbformat": 4,
 "nbformat_minor": 4
}
