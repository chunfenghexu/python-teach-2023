{
 "cells": [
  {
   "cell_type": "markdown",
   "metadata": {},
   "source": [
    "# 堆排序\n",
    "![](./images/9大排序算法比较.png)"
   ]
  },
  {
   "cell_type": "markdown",
   "metadata": {},
   "source": [
    "# 什么是堆？\n",
    "堆是一种特殊的树。我们现在就来看看，什么样的树才是堆。我罗列了两点要求，只要满足这两点，它就是一个堆。\n",
    "\n",
    "- 堆是一个完全二叉树\n",
    "- 堆中每一个节点的值都必须大于等于（或小于等于）其子树中每个节点的值。\n",
    "\n",
    "大顶堆（大于等于） 和 小顶堆（小于等于）\n",
    "# 判断一下下面哪些是堆？\n",
    "![](./images/哪个是堆.webp)"
   ]
  },
  {
   "cell_type": "markdown",
   "metadata": {},
   "source": [
    "# 如何存储一个堆\n",
    "完全二叉树比较适合用数组来存储。用数组来存储完全二叉树是非常节省存储空间的。因为我们不需要存储左右子节点的指针，单纯地通过数组的下标，就可以找到一个节点的左右子节点和父节点。\n",
    "![](./images/ArrayBinaryTree.jpg)"
   ]
  },
  {
   "cell_type": "code",
   "execution_count": 6,
   "metadata": {},
   "outputs": [
    {
     "name": "stdout",
     "output_type": "stream",
     "text": [
      "65\n",
      "A\n"
     ]
    }
   ],
   "source": [
    "A = ord('A')\n",
    "print(A)\n",
    "A_ = chr(A)\n",
    "print(A_)"
   ]
  },
  {
   "cell_type": "code",
   "execution_count": 7,
   "metadata": {},
   "outputs": [],
   "source": [
    "heap = [None] + [chr(ord('A')+ i) for i in range(10)]"
   ]
  },
  {
   "cell_type": "code",
   "execution_count": 8,
   "metadata": {},
   "outputs": [
    {
     "data": {
      "text/plain": [
       "[None, 'A', 'B', 'C', 'D', 'E', 'F', 'G', 'H', 'I', 'J']"
      ]
     },
     "execution_count": 8,
     "metadata": {},
     "output_type": "execute_result"
    }
   ],
   "source": [
    "heap"
   ]
  },
  {
   "cell_type": "code",
   "execution_count": 9,
   "metadata": {},
   "outputs": [],
   "source": [
    "import random\n",
    "heap_ = [None]+[random.randint(1,10) for i in range(10)]"
   ]
  },
  {
   "cell_type": "code",
   "execution_count": 10,
   "metadata": {},
   "outputs": [
    {
     "data": {
      "text/plain": [
       "[None, 4, 6, 9, 2, 9, 8, 1, 9, 5, 2]"
      ]
     },
     "execution_count": 10,
     "metadata": {},
     "output_type": "execute_result"
    }
   ],
   "source": [
    "heap_"
   ]
  },
  {
   "cell_type": "code",
   "execution_count": 14,
   "metadata": {},
   "outputs": [],
   "source": [
    "class Heap:\n",
    "    def __init(self,n):\n",
    "        self.heap = [None for i in range(n+1)]\n",
    "        self.n = n\n",
    "        self.count = 0\n",
    "    def initHeap(self,l):\n",
    "        if len(l) <= self.n:\n",
    "            self.heap = [None] + l\n",
    "        "
   ]
  },
  {
   "cell_type": "markdown",
   "metadata": {},
   "source": [
    "# 堆化\n",
    "往堆中插入一个新元素或删除堆顶元素后，堆的结构被破坏，我们需要继续满足堆的两个特性。于是，我们就需要进行调整，让其重新满足堆的特性，这个过程我们起了一个名字，就叫做**堆化（heapify）**。\n",
    "\n",
    "- 自顶向下的堆化过程\n",
    "- 自底向上的堆化过程"
   ]
  },
  {
   "cell_type": "markdown",
   "metadata": {},
   "source": [
    "# 操作1：向堆中插入新元素"
   ]
  },
  {
   "cell_type": "markdown",
   "metadata": {},
   "source": [
    "# 思考题01：插入新元素后如何依然满足堆的两个性质呢？"
   ]
  },
  {
   "cell_type": "markdown",
   "metadata": {},
   "source": [
    "# 插入新元素使用自底向上的堆化过程\n",
    "![](./images/heapsort插入.webp)\n",
    "\n",
    "![](./images/heapsort插入2.webp)"
   ]
  },
  {
   "cell_type": "code",
   "execution_count": 24,
   "metadata": {},
   "outputs": [],
   "source": [
    "heap_1 = [None,33,27,21,16,13,15,9,5,6,7,8,1,2]"
   ]
  },
  {
   "cell_type": "code",
   "execution_count": 25,
   "metadata": {},
   "outputs": [],
   "source": [
    "class Heap:\n",
    "    def __init__(self,n):\n",
    "        self.heap = [None for i in range(n+1)]\n",
    "        self.n = n\n",
    "        self.count = 0\n",
    "    def initHeap(self,l):\n",
    "        if len(l) <= self.n:\n",
    "            self.heap = [None] + l\n",
    "            self.count = len(l)\n",
    "    def insertHeap(self,x):\n",
    "        if self.count >= self.n:return\n",
    "        self.heap.append(x) # 放到堆的最后\n",
    "        self.count += 1\n",
    "        # 自底向上堆化\n",
    "        i = self.count\n",
    "        while i//2!=0 and self.heap[i//2] < self.heap[i]:\n",
    "            self.heap[i//2],self.heap[i] = self.heap[i],self.heap[i//2] # 交换\n",
    "            i = i//2\n",
    "    def __str__(self):\n",
    "        return '当前共有{}个节点'.format(self.count) + \"\\n\" + self.heap.__str__()\n"
   ]
  },
  {
   "cell_type": "code",
   "execution_count": 40,
   "metadata": {},
   "outputs": [
    {
     "name": "stdout",
     "output_type": "stream",
     "text": [
      "当前共有13个节点\n",
      "[None, 33, 27, 21, 16, 13, 15, 9, 5, 6, 7, 8, 1, 2]\n",
      "当前共有14个节点\n",
      "[None, 33, 27, 22, 16, 13, 15, 21, 5, 6, 7, 8, 1, 2, 9]\n"
     ]
    }
   ],
   "source": [
    "h = Heap(100)\n",
    "h.initHeap(heap_1[1:])\n",
    "print(h)\n",
    "h.insertHeap(22)\n",
    "print(h)"
   ]
  },
  {
   "cell_type": "markdown",
   "metadata": {},
   "source": [
    "# 操作2：删除堆顶元素\n",
    "假设我们构造的是大顶堆，堆顶元素就是最大的元素。当我们删除堆顶元素之后，就需要把第二大的元素放到堆顶，那第二大元素肯定会出现在左右子节点中。然后我们再迭代地删除第二大节点，以此类推，直到叶子节点被删除。\n",
    "![](./images/heapsort删除1.webp)\n",
    "不过这种方法有点问题，就是最后堆化出来的堆并不满足完全二叉树的特性。"
   ]
  },
  {
   "cell_type": "markdown",
   "metadata": {},
   "source": [
    "# 思考题02：删除堆顶元素后如何依然满足堆的两个性质呢？"
   ]
  },
  {
   "cell_type": "markdown",
   "metadata": {},
   "source": [
    "# 删除堆顶元素使用自顶向下的堆化过程\n",
    "我们把最后一个节点放到堆顶，然后利用同样的父子节点对比方法。对于不满足父子节点大小关系的，互换两个节点，并且重复进行这个过程，直到父子节点之间满足大小关系为止。这就是从上往下的堆化方法。因为我们移除的是数组中的最后一个元素，而在堆化的过程中，都是交换操作，不会出现数组中的“空洞”，所以这种方法堆化之后的结果，肯定满足完全二叉树的特性。\n",
    "\n",
    "![](./images/heapsort删除2.webp)"
   ]
  },
  {
   "cell_type": "code",
   "execution_count": 42,
   "metadata": {},
   "outputs": [],
   "source": [
    "class Heap:\n",
    "    def __init__(self,n):\n",
    "        self.heap = [None for i in range(n+1)]\n",
    "        self.n = n\n",
    "        self.count = 0\n",
    "    def initHeap(self,l):\n",
    "        if len(l) <= self.n:\n",
    "            self.heap = [None] + l\n",
    "            self.count = len(l)\n",
    "    def insertHeap(self,x):\n",
    "        if self.count >= self.n:return\n",
    "        self.heap.append(x) # 放到堆的最后\n",
    "        self.count += 1\n",
    "        # 自底向上堆化\n",
    "        i = self.count\n",
    "        while i//2!=0 and self.heap[i//2] < self.heap[i]:\n",
    "            self.heap[i//2],self.heap[i] = self.heap[i],self.heap[i//2] # 交换\n",
    "            i = i//2\n",
    "    def removeHeapTop(self):\n",
    "        if(self.isEmpty()):return\n",
    "        # 将最后一个填到第一个\n",
    "        self.heap[1] = self.heap[self.count]\n",
    "        self.heap[self.count]=None\n",
    "        self.count -= 1\n",
    "        # 自顶向下堆化\n",
    "        i = 1\n",
    "        leftF,rightF = False,False\n",
    "        while 2*i<=self.count  or 2*i+1<=self.count: \n",
    "            # 左边大于根\n",
    "            if self.heap[2*i]>=self.heap[i]:\n",
    "                self.heap[i],self.heap[2*i]=self.heap[2*i],self.heap[i]\n",
    "                i= 2*i\n",
    "            # 右边大于根\n",
    "            elif self.heap[2*i+1]>=self.heap[i]:\n",
    "                self.heap[i],self.heap[2*i+1]=self.heap[2*i+1],self.heap[i]\n",
    "                i= 2*i + 1\n",
    "            else:break\n",
    "            \n",
    "    def isEmpty(self):\n",
    "        return True if self.count==0 else False\n",
    "    def __str__(self):\n",
    "        return '当前共有{}个节点'.format(self.count) + \"\\n\" + self.heap.__str__()\n"
   ]
  },
  {
   "cell_type": "code",
   "execution_count": 45,
   "metadata": {},
   "outputs": [],
   "source": [
    "heap_2 = [None,33,27,21,16,13,15,19,5,6,7,8,1,2] "
   ]
  },
  {
   "cell_type": "code",
   "execution_count": 46,
   "metadata": {},
   "outputs": [
    {
     "name": "stdout",
     "output_type": "stream",
     "text": [
      "当前共有14个节点\n",
      "[None, 33, 27, 21, 16, 13, 15, 19, 5, 6, 7, 8, 1, 2, 12]\n",
      "当前共有13个节点\n",
      "[None, 27, 16, 21, 12, 13, 15, 19, 5, 6, 7, 8, 1, 2, None]\n"
     ]
    }
   ],
   "source": [
    "h = Heap(100)\n",
    "h.initHeap(heap_2[1:]+[12])\n",
    "print(h)\n",
    "#h.insertHeap(12)\n",
    "#print(h)\n",
    "h.removeHeapTop()\n",
    "print(h)"
   ]
  },
  {
   "cell_type": "markdown",
   "metadata": {},
   "source": [
    "# 思考题03：学习了堆，我们如何使用堆结构和操作进行排序呢"
   ]
  },
  {
   "cell_type": "markdown",
   "metadata": {},
   "source": [
    "# 建堆操作\n",
    "第一种是借助我们前面讲的，在堆中插入一个元素的思路。尽管数组中包含 n 个数据，但是我们可以假设，起初堆中只包含一个数据，就是下标为 1 的数据。然后，我们调用前面讲的插入操作，将下标从 2 到 n 的数据依次插入到堆中。这样我们就将包含 n 个数据的数组，组织成了堆。\n",
    "\n",
    "第二种实现思路，跟第一种截然相反，也是我这里要详细讲的。第一种建堆思路的处理过程是从前往后处理数组数据，并且每个数据插入堆中时，都是从下往上堆化。而第二种实现思路，是从后往前处理数组，并且每个数据都是从上往下堆化。\n",
    "\n",
    "![](./images/自底向上堆化.webp)\n",
    "![](./images/自底向上堆化2.webp)"
   ]
  },
  {
   "cell_type": "markdown",
   "metadata": {},
   "source": [
    "- https://blog.csdn.net/m0_37102093/article/details/61664592 （完全二叉树叶子节点比非叶子节点数多一） "
   ]
  },
  {
   "cell_type": "markdown",
   "metadata": {},
   "source": [
    "# 排序操作 \n",
    "![](./images/堆排序.webp)"
   ]
  },
  {
   "cell_type": "code",
   "execution_count": 231,
   "metadata": {},
   "outputs": [],
   "source": [
    "class HeapSort:\n",
    "    def __init__(self):\n",
    "        pass\n",
    "    def __call__(self,l):\n",
    "        self.heap = l \n",
    "        self.count=len(l)-1\n",
    "        self.sort2()\n",
    "    def sort1(self):\n",
    "        # 先进行一次建堆\n",
    "        self.createHeap1()\n",
    "        # 进行n-1次删除操作\n",
    "        for i in range(0,self.count-1):\n",
    "            print(self.heap,self.count)\n",
    "            self.heap[1],self.heap[self.count-i] = self.heap[self.count-i],self.heap[1]\n",
    "            print(self.heap,\"xxoo\")\n",
    "            self.topTobottom(1,self.count-i-1)\n",
    "    def createHeap1(self):\n",
    "        for i in range(1,self.count+1):\n",
    "            self.bottomTotop(i)\n",
    "    def sort2(self):\n",
    "        self.createHeap2()\n",
    "        print(self.heap,'建堆')\n",
    "        for i in range(0,self.count-1):\n",
    "            print(self.heap,self.count)\n",
    "            self.heap[1],self.heap[self.count-i] = self.heap[self.count-i],self.heap[1]\n",
    "            print(self.heap,\"xxoo\")\n",
    "            self.topTobottom(1,self.count-i-1)\n",
    "    def createHeap2(self):\n",
    "        for i in range(self.count//2,0,-1):\n",
    "            self.topTobottom(i,self.count)\n",
    "    def bottomTotop(self,i):\n",
    "        while i//2!=0 and self.heap[i//2] < self.heap[i]:\n",
    "            self.heap[i//2],self.heap[i] = self.heap[i],self.heap[i//2] # 交换\n",
    "            i = i//2\n",
    "    def topTobottom(self,start,count):\n",
    "        i = start\n",
    "        while 2*i<=count  or 2*i+1<=count: \n",
    "            direct = 2*i\n",
    "            if 2*i<=count and 2*i+1<=count:\n",
    "                if self.heap[2*i] < self.heap[2*i+1]:direct=2*i+1\n",
    "            if self.heap[direct] > self.heap[i]:\n",
    "                self.heap[i],self.heap[direct]=self.heap[direct],self.heap[i]\n",
    "                i=direct \n",
    "            else:break"
   ]
  },
  {
   "cell_type": "code",
   "execution_count": 232,
   "metadata": {},
   "outputs": [],
   "source": [
    "import random\n",
    "heap_3 = [ random.randint(1,20) for i in range(15)]"
   ]
  },
  {
   "cell_type": "code",
   "execution_count": 233,
   "metadata": {},
   "outputs": [],
   "source": [
    "heap_3 = [None] + heap_3"
   ]
  },
  {
   "cell_type": "code",
   "execution_count": 234,
   "metadata": {},
   "outputs": [
    {
     "data": {
      "text/plain": [
       "[None, 11, 15, 15, 17, 3, 16, 12, 11, 12, 5, 14, 16, 9, 2, 5]"
      ]
     },
     "execution_count": 234,
     "metadata": {},
     "output_type": "execute_result"
    }
   ],
   "source": [
    "heap_3"
   ]
  },
  {
   "cell_type": "code",
   "execution_count": 235,
   "metadata": {},
   "outputs": [],
   "source": [
    "hs = HeapSort()"
   ]
  },
  {
   "cell_type": "code",
   "execution_count": 236,
   "metadata": {},
   "outputs": [
    {
     "name": "stdout",
     "output_type": "stream",
     "text": [
      "[None, 17, 15, 16, 12, 14, 16, 12, 11, 11, 5, 3, 15, 9, 2, 5] 建堆\n",
      "[None, 17, 15, 16, 12, 14, 16, 12, 11, 11, 5, 3, 15, 9, 2, 5] 15\n",
      "[None, 5, 15, 16, 12, 14, 16, 12, 11, 11, 5, 3, 15, 9, 2, 17] xxoo\n",
      "[None, 16, 15, 16, 12, 14, 15, 12, 11, 11, 5, 3, 5, 9, 2, 17] 15\n",
      "[None, 2, 15, 16, 12, 14, 15, 12, 11, 11, 5, 3, 5, 9, 16, 17] xxoo\n",
      "[None, 16, 15, 15, 12, 14, 9, 12, 11, 11, 5, 3, 5, 2, 16, 17] 15\n",
      "[None, 2, 15, 15, 12, 14, 9, 12, 11, 11, 5, 3, 5, 16, 16, 17] xxoo\n",
      "[None, 15, 14, 15, 12, 5, 9, 12, 11, 11, 2, 3, 5, 16, 16, 17] 15\n",
      "[None, 5, 14, 15, 12, 5, 9, 12, 11, 11, 2, 3, 15, 16, 16, 17] xxoo\n",
      "[None, 15, 14, 12, 12, 5, 9, 5, 11, 11, 2, 3, 15, 16, 16, 17] 15\n",
      "[None, 3, 14, 12, 12, 5, 9, 5, 11, 11, 2, 15, 15, 16, 16, 17] xxoo\n",
      "[None, 14, 12, 12, 11, 5, 9, 5, 3, 11, 2, 15, 15, 16, 16, 17] 15\n",
      "[None, 2, 12, 12, 11, 5, 9, 5, 3, 11, 14, 15, 15, 16, 16, 17] xxoo\n",
      "[None, 12, 11, 12, 11, 5, 9, 5, 3, 2, 14, 15, 15, 16, 16, 17] 15\n",
      "[None, 2, 11, 12, 11, 5, 9, 5, 3, 12, 14, 15, 15, 16, 16, 17] xxoo\n",
      "[None, 12, 11, 9, 11, 5, 2, 5, 3, 12, 14, 15, 15, 16, 16, 17] 15\n",
      "[None, 3, 11, 9, 11, 5, 2, 5, 12, 12, 14, 15, 15, 16, 16, 17] xxoo\n",
      "[None, 11, 11, 9, 3, 5, 2, 5, 12, 12, 14, 15, 15, 16, 16, 17] 15\n",
      "[None, 5, 11, 9, 3, 5, 2, 11, 12, 12, 14, 15, 15, 16, 16, 17] xxoo\n",
      "[None, 11, 5, 9, 3, 5, 2, 11, 12, 12, 14, 15, 15, 16, 16, 17] 15\n",
      "[None, 2, 5, 9, 3, 5, 11, 11, 12, 12, 14, 15, 15, 16, 16, 17] xxoo\n",
      "[None, 9, 5, 2, 3, 5, 11, 11, 12, 12, 14, 15, 15, 16, 16, 17] 15\n",
      "[None, 5, 5, 2, 3, 9, 11, 11, 12, 12, 14, 15, 15, 16, 16, 17] xxoo\n",
      "[None, 5, 5, 2, 3, 9, 11, 11, 12, 12, 14, 15, 15, 16, 16, 17] 15\n",
      "[None, 3, 5, 2, 5, 9, 11, 11, 12, 12, 14, 15, 15, 16, 16, 17] xxoo\n",
      "[None, 5, 3, 2, 5, 9, 11, 11, 12, 12, 14, 15, 15, 16, 16, 17] 15\n",
      "[None, 2, 3, 5, 5, 9, 11, 11, 12, 12, 14, 15, 15, 16, 16, 17] xxoo\n",
      "[None, 3, 2, 5, 5, 9, 11, 11, 12, 12, 14, 15, 15, 16, 16, 17] 15\n",
      "[None, 2, 3, 5, 5, 9, 11, 11, 12, 12, 14, 15, 15, 16, 16, 17] xxoo\n"
     ]
    }
   ],
   "source": [
    "hs(heap_3)"
   ]
  },
  {
   "cell_type": "code",
   "execution_count": 143,
   "metadata": {},
   "outputs": [
    {
     "data": {
      "text/plain": [
       "[None, 3, 14, 10, 8, 5, 15, 6, 7, 5, 20]"
      ]
     },
     "execution_count": 143,
     "metadata": {},
     "output_type": "execute_result"
    }
   ],
   "source": [
    "heap_3"
   ]
  }
 ],
 "metadata": {
  "kernelspec": {
   "display_name": "Python 3",
   "language": "python",
   "name": "python3"
  },
  "language_info": {
   "codemirror_mode": {
    "name": "ipython",
    "version": 3
   },
   "file_extension": ".py",
   "mimetype": "text/x-python",
   "name": "python",
   "nbconvert_exporter": "python",
   "pygments_lexer": "ipython3",
   "version": "3.8.5"
  },
  "latex_envs": {
   "LaTeX_envs_menu_present": true,
   "autoclose": false,
   "autocomplete": true,
   "bibliofile": "biblio.bib",
   "cite_by": "apalike",
   "current_citInitial": 1,
   "eqLabelWithNumbers": true,
   "eqNumInitial": 1,
   "hotkeys": {
    "equation": "Ctrl-E",
    "itemize": "Ctrl-I"
   },
   "labels_anchors": false,
   "latex_user_defs": false,
   "report_style_numbering": false,
   "user_envs_cfg": false
  }
 },
 "nbformat": 4,
 "nbformat_minor": 4
}
