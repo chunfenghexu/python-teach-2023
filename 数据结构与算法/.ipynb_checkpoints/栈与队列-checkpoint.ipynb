{
 "cells": [
  {
   "cell_type": "markdown",
   "metadata": {},
   "source": [
    "# 栈（Stack）\n",
    "- 如何使用链表作为底层数据结构来构建栈\n",
    "- 使用List模拟栈结构，可以快速使用"
   ]
  },
  {
   "cell_type": "code",
   "execution_count": 1,
   "metadata": {},
   "outputs": [],
   "source": [
    "class LinkNode:\n",
    "    def __init__(self,data,nextNode):\n",
    "        self.data = data\n",
    "        self.nextNode = nextNode\n",
    "class LinkList:\n",
    "    def __init__(self):\n",
    "        self.head = LinkNode(None,None)\n",
    "        self.length = 0\n",
    "    def head_insert(self,newNode):\n",
    "        if self.head.nextNode == None:\n",
    "            # 此时一个节点都还没有插入\n",
    "            self.head.nextNode = newNode\n",
    "            newNode.nextNode = None\n",
    "        else:\n",
    "            headNextNode = self.head.nextNode\n",
    "            newNode.nextNode = headNextNode\n",
    "            self.head.nextNode = newNode\n",
    "        self.length += 1\n",
    "    def tail_insert(self,newNode):\n",
    "        p = self.head\n",
    "        while p.nextNode != None:\n",
    "            p = p.nextNode\n",
    "        p.nextNode = newNode\n",
    "        self.length += 1\n",
    "        newNode.nextNode = None\n",
    "    def remove(self,node):\n",
    "        pnode = self.head\n",
    "        while pnode.nextNode != node:\n",
    "            pnode = pnode.nextNode\n",
    "        pnode.nextNode = node.nextNode\n",
    "        node.nextNode = None\n",
    "        self.length -= 1\n",
    "        return node\n",
    "    # 作业 1： 实现 insetTo 和 insertInt\n",
    "    def removeI(self,i):\n",
    "        pass\n",
    "    def insertI(self,i,newNode):\n",
    "        pass\n",
    "    def insertInt(self,num):\n",
    "        pass\n",
    "    def toString(self):\n",
    "        p = self.head.nextNode\n",
    "        res = \"[\"\n",
    "        while p != None:\n",
    "            res += str(p.data) + \" \"\n",
    "            p = p.nextNode\n",
    "        return res + \"]\"\n"
   ]
  },
  {
   "cell_type": "code",
   "execution_count": 2,
   "metadata": {},
   "outputs": [],
   "source": [
    "class stack:\n",
    "    # stack得有哪些属性呢？\n",
    "    # 1. top : LinkNode \n",
    "    # 2. length : int\n",
    "    # 3. List : LinkList\n",
    "    def __init__(self):\n",
    "        self.List = LinkList()\n",
    "        self.top = self.List.head\n",
    "        self.length = self.List.length\n",
    "    # 方法\n",
    "    def push(self,linkNode):\n",
    "        self.List.head_insert(linkNode)\n",
    "        self.length = self.List.length\n",
    "    def pop(self):\n",
    "        self.length = self.List.length\n",
    "        return -1 if self.isEmpty() else self.List.remove(self.top.nextNode) \n",
    "    def top(self):\n",
    "        return False if self.isEmpty() else self.top.nextNode\n",
    "    def isEmpty(self):\n",
    "        return True if self.self.top.nextNode == None else False"
   ]
  },
  {
   "cell_type": "code",
   "execution_count": 3,
   "metadata": {},
   "outputs": [
    {
     "name": "stdout",
     "output_type": "stream",
     "text": [
      "3\n"
     ]
    }
   ],
   "source": [
    "S = stack()\n",
    "node1 = LinkNode(1,None)\n",
    "node2 = LinkNode(2,None)\n",
    "node3 = LinkNode(3,None)\n",
    "S.push(node1)\n",
    "S.push(node2)\n",
    "S.push(node3)\n",
    "print(S.top.nextNode.data)"
   ]
  },
  {
   "cell_type": "code",
   "execution_count": 4,
   "metadata": {},
   "outputs": [
    {
     "name": "stdout",
     "output_type": "stream",
     "text": [
      "4\n",
      "4\n"
     ]
    }
   ],
   "source": [
    "L = [1,2,3,4] # 可以模拟栈的结构\n",
    "# append \n",
    "# pop\n",
    "L.append(5) # 压栈\n",
    "L.pop() # 出栈\n",
    "print(L[len(L)-1])\n",
    "print(L[-1])"
   ]
  },
  {
   "cell_type": "markdown",
   "metadata": {},
   "source": [
    "# 练习\n",
    "- https://leetcode-cn.com/problems/valid-parentheses/\n",
    "- https://leetcode-cn.com/problems/evaluate-reverse-polish-notation/\n"
   ]
  },
  {
   "cell_type": "code",
   "execution_count": 5,
   "metadata": {},
   "outputs": [],
   "source": [
    "class Solution(object):\n",
    "    def isMatch(self,top,c):\n",
    "        cont = top+c\n",
    "        return cont == '()' or cont == '[]' or cont == '{}'\n",
    "    def isValid(self, s):\n",
    "        \"\"\"\n",
    "        :type s: str\n",
    "        :rtype: bool\n",
    "        \"\"\"\n",
    "        stack = []\n",
    "        for i in range(len(s)):\n",
    "            stack.append(s[i]) \\\n",
    "            if len(stack)==0 or not self.isMatch(stack[-1],s[i]) \\\n",
    "            else stack.pop()\n",
    "        return True if len(stack) == 0 else False"
   ]
  },
  {
   "cell_type": "code",
   "execution_count": 6,
   "metadata": {},
   "outputs": [],
   "source": [
    "class Solution(object):\n",
    "    def isMatch(self,top,c):\n",
    "        cont = top+c\n",
    "        return cont == '()' or cont == '[]' or cont == '{}'\n",
    "    def isValid(self, s):\n",
    "        \"\"\"\n",
    "        :type s: str\n",
    "        :rtype: bool\n",
    "        \"\"\"\n",
    "        stack = []\n",
    "        for i in range(len(s)):\n",
    "            print(stack)\n",
    "            stack.append(s[i]) \\\n",
    "            if len(stack)==0 or not self.isMatch(stack[-1],s[i]) \\\n",
    "            else stack.pop()\n",
    "            print(stack)\n",
    "            print('---------------')\n",
    "        return True if len(stack) == 0 else False"
   ]
  },
  {
   "cell_type": "markdown",
   "metadata": {},
   "source": [
    "# 单调栈 \n",
    "- 什么是单调栈？"
   ]
  },
  {
   "cell_type": "markdown",
   "metadata": {},
   "source": [
    "# 问题引入\n",
    "**视野总和**\n",
    "\n",
    ">描叙：有n个人站队，所有的人全部向右看，个子高的可以看到个子低的发型，给出每个人的身高，问所有人能看到其他人发型总和是多少。\n",
    "\n",
    "输入：4 3 7 1   \n",
    "\n",
    "输出：2      \n",
    "\n",
    "解释：个子为4的可以看到个子为3的发型，个子为7可以看到个子为1的身高，所以1+1=2\n",
    "\n",
    "输入：   [7, 2, 4, 2, 3, 6, 8, 7, 5, 8]\n",
    "\n",
    "输出： 10"
   ]
  },
  {
   "cell_type": "markdown",
   "metadata": {},
   "source": [
    " [9,8,7,6,5,4] $O(N^2)$  [4,5,6,7,8,9] $O(2N)$"
   ]
  },
  {
   "cell_type": "markdown",
   "metadata": {},
   "source": [
    "# python类库分成 标准库 和 第三方库 numpy, sklearn,matplotlib"
   ]
  },
  {
   "cell_type": "code",
   "execution_count": 7,
   "metadata": {},
   "outputs": [],
   "source": [
    "import random"
   ]
  },
  {
   "cell_type": "code",
   "execution_count": 2,
   "metadata": {},
   "outputs": [
    {
     "name": "stdout",
     "output_type": "stream",
     "text": [
      "9223372036854775807\n"
     ]
    }
   ],
   "source": [
    "import sys\n",
    "print(sys.maxsize) # 64 int -> 10进制"
   ]
  },
  {
   "cell_type": "code",
   "execution_count": 4,
   "metadata": {},
   "outputs": [
    {
     "name": "stdout",
     "output_type": "stream",
     "text": [
      "[7, 2, 4, 2, 3, 6, 8, 7, 5, 8]\n",
      "[10]\n",
      "0 6\n",
      "1 2\n",
      "2 5\n",
      "3 4\n",
      "4 5\n",
      "5 6\n",
      "6 9\n",
      "7 9\n",
      "8 9\n",
      "9 10\n",
      "10\n"
     ]
    }
   ],
   "source": [
    "import sys\n",
    "\n",
    "test = [7, 2, 4, 2, 3, 6, 8, 7, 5, 8]\n",
    "print(test)\n",
    "stack = []\n",
    "m = [ 0 for i in range(len(test))] \n",
    "i = 0\n",
    "test.append(sys.maxsize)\n",
    "while(i<len(test)):\n",
    "    if len(stack)==0 or test[i] < test[stack[-1]]:\n",
    "        stack.append(i)\n",
    "    else:\n",
    "        # 从栈顶开始向栈底比较\n",
    "        top = stack[-1]\n",
    "        while(test[i] >= test[top]):\n",
    "            m[top] = i\n",
    "            stack.pop() # 弹出栈顶\n",
    "            if len(stack)==0:break\n",
    "            top = stack[-1]\n",
    "        # 将test[i]入栈\n",
    "        stack.append(i)    \n",
    "    i += 1\n",
    "print(stack)\n",
    "sums = 0\n",
    "for i in range(len(m)):\n",
    "    sums += m[i]-i-1\n",
    "    print(i,m[i])\n",
    "print(sums)"
   ]
  },
  {
   "cell_type": "markdown",
   "metadata": {},
   "source": [
    "# 复杂度分析\n",
    "考虑一下 [7,6,5,4,3,2,1] $O(2N)$ 和 [1,2,3,4,5,6,7] $O(2N)$ 例子"
   ]
  },
  {
   "cell_type": "markdown",
   "metadata": {},
   "source": [
    "# 练习\n",
    "- https://leetcode-cn.com/problems/next-greater-element-i/\n",
    "- https://leetcode-cn.com/problems/maximum-subarray-min-product/"
   ]
  },
  {
   "cell_type": "markdown",
   "metadata": {},
   "source": [
    "# 思考题-01\n",
    "我们知道浏览器有一个网页 前进/后退 的功能，如果要你实现这样的功能，你觉得应该如何做呢？"
   ]
  },
  {
   "cell_type": "markdown",
   "metadata": {},
   "source": [
    "# 队列（Queue）\n",
    "- 如何使用链表作为底层数据结构来构建队列\n",
    "- 使用List模拟队列结构，快速使用"
   ]
  },
  {
   "cell_type": "markdown",
   "metadata": {},
   "source": [
    "![](./images/stackVsqueue.jpg)"
   ]
  },
  {
   "cell_type": "code",
   "execution_count": 6,
   "metadata": {},
   "outputs": [],
   "source": [
    "Queue.pop??"
   ]
  },
  {
   "cell_type": "code",
   "execution_count": 7,
   "metadata": {
    "scrolled": true
   },
   "outputs": [
    {
     "name": "stdout",
     "output_type": "stream",
     "text": [
      "[1, 2, 3, 3, 4, 5, 1]\n",
      "[2, 3, 3, 4, 5, 1]\n"
     ]
    }
   ],
   "source": [
    "Queue = [1,2,3,3,4,5] # 可变长的数据结构\n",
    "Queue.append(1)\n",
    "print(Queue)\n",
    "Queue.pop(0)\n",
    "print(Queue)"
   ]
  },
  {
   "cell_type": "code",
   "execution_count": 10,
   "metadata": {},
   "outputs": [],
   "source": [
    "class Queue(object):\n",
    "    '''队列'''\n",
    "    def __init__(self):\n",
    "        self.__list = []\n",
    "\n",
    "    def enqueue(self,item):\n",
    "        '''往队列中添加元素'''\n",
    "        self.__list.append(item)\n",
    "\n",
    "    def dequeue(self):\n",
    "        '''从队列头部删除元素'''\n",
    "        return self.__list.pop(0)\n",
    "\n",
    "    def is_empty(self):\n",
    "        '''判断列表是否为空'''\n",
    "        return self.__list == []\n",
    "\n",
    "    def size(self):\n",
    "        '''返回列表的大小'''\n",
    "        return len(self.__list)"
   ]
  },
  {
   "cell_type": "markdown",
   "metadata": {},
   "source": [
    "**在python这类动态语言中，数组往往是可变长的，可以动态扩容，这为编程带来很多便利，但是频繁的pop，append操作其实是很耗性能的。**\n",
    "\n",
    "**相比之下，类似Java之类静态语言中，定长数组虽然对编程要求高，且不可动态扩容，但是性能却是略胜一筹**"
   ]
  },
  {
   "cell_type": "markdown",
   "metadata": {},
   "source": [
    "![](./images/queueStructure.jpg)\n",
    "![](./images/queuePop.jpg)\n",
    "![](./images/queueMigration.jpg)"
   ]
  },
  {
   "cell_type": "markdown",
   "metadata": {},
   "source": [
    "# 练习1：底层使用python的List，构造一个上述定长的队列结构"
   ]
  },
  {
   "cell_type": "code",
   "execution_count": 15,
   "metadata": {},
   "outputs": [],
   "source": [
    "class Queue2(object):  # 继承\n",
    "    '''队列，定长'''\n",
    "    def __init__(self,maxSize):\n",
    "        self.__maxsize = maxSize\n",
    "        self.__list = [None for i in range(maxSize)]\n",
    "        self.__head = 0 \n",
    "        self.__tail = 0\n",
    "    def enqueue(self,item):\n",
    "        '''往队列中添加元素'''\n",
    "        self.__list[self.__tail] = item\n",
    "        self.__tail += 1\n",
    "        if self.is_full() and self.__head != 0:\n",
    "            # 数据搬移\n",
    "            i = 0\n",
    "            for j in range(self.__head,self.__tail):\n",
    "                self.__list[i] = self.__list[j]\n",
    "                i += 1\n",
    "            self.__tail = i\n",
    "            self.__head = 0\n",
    "\n",
    "    def dequeue(self):\n",
    "        '''从队列头部删除元素'''\n",
    "        item = self.__list[self.__head]\n",
    "        self.__head += 1\n",
    "        return item\n",
    "\n",
    "    def is_empty(self):\n",
    "        '''判断列表是否为空'''\n",
    "        return self.__head == self.__tail\n",
    "    def is_full(self):\n",
    "        '''判断队列是否已满'''\n",
    "        return self.__tail == self.__maxsize\n",
    "\n",
    "    def size(self):\n",
    "        '''返回队列的大小'''\n",
    "        return self.__tail - self.__head\n",
    "    def __str__(self):\n",
    "        return self.__list.__str__() + '[head={},tail={}]'.format(self.__head,self.__tail)"
   ]
  },
  {
   "cell_type": "code",
   "execution_count": 16,
   "metadata": {},
   "outputs": [
    {
     "name": "stdout",
     "output_type": "stream",
     "text": [
      "[1, 2, 3, None, None][head=0,tail=3]\n",
      "[1, 2, 3, None, None][head=2,tail=3]\n",
      "[3, 4, 5, 4, 5][head=0,tail=3]\n",
      "3\n"
     ]
    }
   ],
   "source": [
    "Q = Queue2(5)\n",
    "Q.enqueue(1)\n",
    "Q.enqueue(2)\n",
    "Q.enqueue(3)\n",
    "print(Q)\n",
    "Q.dequeue()\n",
    "Q.dequeue()\n",
    "print(Q)\n",
    "Q.enqueue(4)\n",
    "Q.enqueue(5)\n",
    "print(Q)\n",
    "print(Q.size())"
   ]
  },
  {
   "cell_type": "markdown",
   "metadata": {},
   "source": [
    "# 循环队列\n",
    "**主要解决当尾指针到头时要进行的数据搬移问题，能不能不搬移的同时还能保证充分的利用数组的空间**"
   ]
  },
  {
   "cell_type": "markdown",
   "metadata": {},
   "source": [
    "![](./images/cyclequeue.jpg) \n",
    "![](./images/cyclequeueAppend.jpg) \n",
    "![](./images/cyclequeueNull.jpg) "
   ]
  },
  {
   "cell_type": "code",
   "execution_count": 1,
   "metadata": {},
   "outputs": [],
   "source": [
    "class CycleQueue(object):\n",
    "    '''循环队列，不可变长的数据结构'''\n",
    "    def __init__(self,maxSize):\n",
    "        self.__maxsize = maxSize\n",
    "        self.__list = [None for i in range(maxSize)]\n",
    "        self.__head = 0 \n",
    "        self.__tail = 0\n",
    "    def enqueue(self,item):\n",
    "        '''往队列中添加元素'''\n",
    "        if not self.is_full():\n",
    "            self.__list[self.__tail] = item\n",
    "            self.__tail = (self.__tail + 1)%self.__maxsize\n",
    "        else:print('Queue is full')\n",
    "\n",
    "    def dequeue(self):\n",
    "        '''从队列头部删除元素'''\n",
    "        if not self.is_empty():\n",
    "            item = self.__list[self.__head]\n",
    "            self.__head = (self.__head + 1)%self.__maxsize\n",
    "            return item\n",
    "        else:print('Queue is empty')\n",
    "\n",
    "    def is_empty(self):\n",
    "        '''判断列表是否为空'''\n",
    "        return self.__head == self.__tail\n",
    "    def is_full(self):\n",
    "        '''判断队列是否已满'''\n",
    "        return (self.__tail + 1)%self.__maxsize == self.__head\n",
    "\n",
    "    def size(self):\n",
    "        '''返回队列的大小'''\n",
    "        return self.__tail - self.__head \\\n",
    "        if self.__tail > self.__head \\\n",
    "        else self.__maxsize - ( self.__head - self.__tail )\n",
    "    def __str__(self):\n",
    "        return self.__list.__str__() + '[head={},tail={}]'.format(self.__head,self.__tail)"
   ]
  },
  {
   "cell_type": "code",
   "execution_count": 4,
   "metadata": {},
   "outputs": [
    {
     "name": "stdout",
     "output_type": "stream",
     "text": [
      "[1, 2, 3, None, None][head=0,tail=3]\n",
      "[1, 2, 3, None, None][head=2,tail=3]\n",
      "[1, 2, 3, 4, 5][head=2,tail=0]\n",
      "[10, 2, 3, 4, 5][head=2,tail=1]\n",
      "4\n"
     ]
    }
   ],
   "source": [
    "cycleq = CycleQueue(5)\n",
    "cycleq.enqueue(1)\n",
    "cycleq.enqueue(2)\n",
    "cycleq.enqueue(3)\n",
    "print(cycleq)\n",
    "cycleq.dequeue()\n",
    "cycleq.dequeue()\n",
    "print(cycleq)\n",
    "cycleq.enqueue(4)\n",
    "cycleq.enqueue(5)\n",
    "print(cycleq)\n",
    "cycleq.enqueue(10)\n",
    "print(cycleq)\n",
    "print(cycleq.size())"
   ]
  },
  {
   "cell_type": "markdown",
   "metadata": {},
   "source": [
    "# 阻塞队列\n",
    "\n",
    "**要理解什么是阻塞，就要先理解什么是线程与并发，这属于 操作系统和计算机网络中的概念范畴**\n",
    "\n",
    "\n",
    "## 并发与并行\n",
    "并发强调的是同一时刻\n",
    "\n",
    "并行强调的是多核处理\n",
    "## 单线程与多线程\n",
    "\n",
    "\n"
   ]
  },
  {
   "cell_type": "markdown",
   "metadata": {},
   "source": [
    "![](./images/python_thread.PNG) "
   ]
  },
  {
   "cell_type": "code",
   "execution_count": 14,
   "metadata": {},
   "outputs": [
    {
     "name": "stdout",
     "output_type": "stream",
     "text": [
      "start at: Fri Jun  4 09:17:41 2021\n",
      "start loop 0 at: Fri Jun  4 09:17:41 2021\n",
      "end loop 0 at Fri Jun  4 09:17:45 2021\n",
      "start loop 1 at: Fri Jun  4 09:17:45 2021\n",
      "end loop 1 at Fri Jun  4 09:17:47 2021\n",
      "end at Fri Jun  4 09:17:47 2021\n"
     ]
    }
   ],
   "source": [
    "from time import sleep,ctime\n",
    "def loop0():\n",
    "    print('start loop 0 at:',ctime())\n",
    "    sleep(4)\n",
    "    print('end loop 0 at',ctime())\n",
    "def loop1():\n",
    "    print('start loop 1 at:',ctime())\n",
    "    sleep(2)\n",
    "    print('end loop 1 at',ctime())\n",
    "    \n",
    "print('start at:',ctime())\n",
    "loop0()\n",
    "loop1()\n",
    "print('end at',ctime())"
   ]
  },
  {
   "cell_type": "code",
   "execution_count": 15,
   "metadata": {},
   "outputs": [
    {
     "name": "stdout",
     "output_type": "stream",
     "text": [
      "start at: Fri Jun  4 09:17:47 2021\n",
      "start loop 1 at:start loop 0 at: Fri Jun  4 09:17:47 2021\n",
      " Fri Jun  4 09:17:47 2021\n",
      "end loop 1 at Fri Jun  4 09:17:49 2021\n",
      "end loop 0 at Fri Jun  4 09:17:51 2021\n",
      "end at Fri Jun  4 09:17:53 2021\n"
     ]
    }
   ],
   "source": [
    "import _thread\n",
    "from time import sleep,ctime\n",
    "def loop0():\n",
    "    print('start loop 0 at:',ctime())\n",
    "    sleep(4)\n",
    "    print('end loop 0 at',ctime())\n",
    "def loop1():\n",
    "    print('start loop 1 at:',ctime())\n",
    "    sleep(2)\n",
    "    print('end loop 1 at',ctime())\n",
    "    \n",
    "print('start at:',ctime())\n",
    "_thread.start_new_thread(loop0,())\n",
    "_thread.start_new_thread(loop1,())\n",
    "sleep(6)\n",
    "print('end at',ctime())"
   ]
  },
  {
   "cell_type": "code",
   "execution_count": 19,
   "metadata": {},
   "outputs": [
    {
     "name": "stdout",
     "output_type": "stream",
     "text": [
      "start at: Fri Jun  4 09:38:45 2021\n",
      "start loop 1 at: Fri Jun  4 09:38:45 2021\n",
      "start loop 0 at: Fri Jun  4 09:38:45 2021\n",
      "end loop 1 at: Fri Jun  4 09:38:47 2021\n",
      "end loop 0 at: Fri Jun  4 09:38:49 2021\n",
      "end at: Fri Jun  4 09:38:49 2021\n"
     ]
    }
   ],
   "source": [
    "import _thread\n",
    "from time import sleep,time\n",
    "def loop(nloop,nsec,lock):\n",
    "    print('start loop',nloop,'at:',ctime())\n",
    "    sleep(nsec)\n",
    "    print('end loop',nloop,'at:',ctime())\n",
    "    lock.release()\n",
    "    \n",
    "locks = []\n",
    "loops = [4,2]\n",
    "nloops = range(len(loops))\n",
    "for i in nloops:\n",
    "    lock = _thread.allocate_lock()\n",
    "    lock.acquire()\n",
    "    locks.append(lock)\n",
    "print('start at:',ctime())\n",
    "for i in nloops:\n",
    "    _thread.start_new_thread(loop,(i,loops[i],locks[i]))\n",
    "for i in nloops:\n",
    "    while locks[i].locked():pass\n",
    "print('end at:',ctime())\n"
   ]
  },
  {
   "cell_type": "markdown",
   "metadata": {},
   "source": [
    "# 考虑一下场景\n",
    "\n",
    "考虑一下，我们生活中经常使用的APP，以淘宝APP的购物支付为例。\n",
    "\n",
    "**参与者：**\n",
    "- 购物者（很多购物者会同时发送支付的请求）\n",
    "- 淘宝服务器（服务器会同时接受到很多支付请求）\n",
    "\n",
    "那么如何在同一时刻接受并处理多个支付请求呢？\n",
    "如果使用单线程的程序，我们很难做到兼顾所有用户的请求。\n",
    "\n",
    "思考一下，在这个任务中，一定要先处理完一个请求，在处理下一个请求吗？我们发现每个请求之间没有因果关系，也就是说，我们完全可以为每一个请求分配一个线程，这样就可以同时接受多个请求。\n",
    "\n",
    "-----\n",
    "这个编程任务可以规划成几个执行特定函数的线程。\n",
    "- UserRequestThread：负责读取客户端输入，该输入可能来自 I/O 通道。程序将创建多个线程，每个客户端一个，客户端的请求将会被放入队列中。\n",
    "- RequestProcessor：该线程负责从队列中获取请求并进行处理，为第 3 个线程提供输出。\n",
    "- ReplyThread：负责向用户输出，将结果传回给用户（如果是网络应用），或者把数据写到本地文件系统或数据库中。"
   ]
  },
  {
   "cell_type": "code",
   "execution_count": 6,
   "metadata": {
    "scrolled": false
   },
   "outputs": [
    {
     "name": "stdout",
     "output_type": "stream",
     "text": [
      "[5, 2, 20, 1, 13, 18, 9, 9, 4, 3, 19, 13, 11, 19, 15]\n",
      "start ... at: Fri Jun  4 17:18:19 2021\n",
      "18\n",
      "9\n",
      "1\n",
      "21319\n",
      "15\n",
      "13\n",
      "\n",
      "\n",
      "5\n",
      "3\n",
      "19\n",
      "20\n",
      "拒绝请求，队列已满\n",
      "拒绝请求，队列已满\n",
      "11\n",
      "拒绝请求，队列已满拒绝请求，链接包含危险信息\n",
      "9\n",
      "\n",
      "4拒绝请求，链接包含危险信息\n",
      "\n",
      "拒绝请求，链接包含危险信息\n",
      "拒绝请求，链接包含危险信息\n",
      "拒绝请求，链接包含危险信息\n",
      "拒绝请求，链接包含危险信息\n",
      "没有需要处理的请求\n",
      "没有需要处理的请求\n",
      "没有需要处理的请求\n",
      "[18, 19, 15, 13, 13, 19]\n",
      "end ... at: Fri Jun  4 17:18:20 2021\n"
     ]
    }
   ],
   "source": [
    "import random\n",
    "import _thread\n",
    "from time import sleep,ctime\n",
    "request_max_nums = 10 # 最大同时可请求数量\n",
    "req_queue = []\n",
    "database = []\n",
    "# 主要负责接受请求\n",
    "def userRequestThread(user_input,lock):\n",
    "    print(user_input)\n",
    "    if len(req_queue) >= request_max_nums:\n",
    "        print('拒绝请求，队列已满')\n",
    "    else:\n",
    "        req_queue.append(user_input)\n",
    "    lock.release()\n",
    "def requestProcess(locks):\n",
    "    for i in range(15):\n",
    "        while locks[i].locked():pass\n",
    "        if len(req_queue) == 0:\n",
    "            print('没有需要处理的请求')\n",
    "        else:\n",
    "            req = req_queue.pop(0)\n",
    "            if req > 10:database.append(req)\n",
    "            else: print(\"拒绝请求，链接包含危险信息\")\n",
    "    locks[15].release()\n",
    "# main thread \n",
    "\n",
    "#　假设现在来了15个请求\n",
    "locks = []\n",
    "requests = [random.randint(1,20) for i in range(15)]\n",
    "print(requests)\n",
    "for i in range(16):\n",
    "    lock = _thread.allocate_lock()\n",
    "    lock.acquire()\n",
    "    locks.append(lock)\n",
    "print('start ... at:',ctime())\n",
    "for j in range(15):\n",
    "    _thread.start_new_thread(userRequestThread,(requests[j],locks[j]))\n",
    "#　与此同时，我们要启动一个处理请求的线程\n",
    "_thread.start_new_thread(requestProcess,(locks,))\n",
    "for i in range(16):\n",
    "    while locks[i].locked():pass\n",
    "print(database)\n",
    "print('end ... at:',ctime())\n"
   ]
  },
  {
   "cell_type": "markdown",
   "metadata": {},
   "source": [
    "# 阻塞队列模型\n",
    "\n",
    "阻塞队列其实就是在队列基础上增加了阻塞操作。简单来说，就是在队列为空的时候，从队头取数据会被阻塞。因为此时还没有数据可取，直到队列中有了数据才能返回；如果队列已经满了，那么插入数据的操作就会被阻塞，直到队列中有空闲位置后再插入数据，然后再返回。\n",
    "\n",
    "![](./images/blockqueue.jpg)\n",
    "![](./images/blockqueue2.jpg)"
   ]
  },
  {
   "cell_type": "markdown",
   "metadata": {},
   "source": [
    "# 答案 思考题-01\n",
    "\n",
    "我们使用两个栈，X 和 Y，我们把首次浏览的页面依次压入栈 X，当点击后退按钮时，再依次从栈 X 中出栈，并将出栈的数据依次放入栈 Y。当我们点击前进按钮时，我们依次从栈 Y 中取出数据，放入栈 X 中。当栈 X 中没有数据时，那就说明没有页面可以继续后退浏览了。当栈 Y 中没有数据，那就说明没有页面可以点击前进按钮浏览了。\n",
    "\n",
    "\n",
    "比如你顺序查看了 a，b，c 三个页面，我们就依次把 a，b，c 压入栈，这个时候，两个栈的数据就是这个样子：\n",
    "\n",
    "![](./images/stack-think-001.jpg)\n",
    "\n",
    "当你通过浏览器的后退按钮，从页面 c 后退到页面 a 之后，我们就依次把 c 和 b 从栈 X 中弹出，并且依次放入到栈 Y。这个时候，两个栈的数据就是这个样子：\n",
    "\n",
    "![](./images/stack-think-002.jpg)\n",
    "\n",
    "这个时候你又想看页面 b，于是你又点击前进按钮回到 b 页面，我们就把 b 再从栈 Y 中出栈，放入栈 X 中。此时两个栈的数据是这个样子：\n",
    "\n",
    "![](./images/stack-think-003.jpg)\n",
    "\n",
    "这个时候，你通过页面 b 又跳转到新的页面 d 了，页面 c 就无法再通过前进、后退按钮重复查看了，所以需要清空栈 Y。此时两个栈的数据这个样子：\n",
    "\n",
    "![](./images/stack-think-004.jpg)"
   ]
  }
 ],
 "metadata": {
  "kernelspec": {
   "display_name": "Python 3",
   "language": "python",
   "name": "python3"
  },
  "language_info": {
   "codemirror_mode": {
    "name": "ipython",
    "version": 3
   },
   "file_extension": ".py",
   "mimetype": "text/x-python",
   "name": "python",
   "nbconvert_exporter": "python",
   "pygments_lexer": "ipython3",
   "version": "3.8.5"
  },
  "latex_envs": {
   "LaTeX_envs_menu_present": true,
   "autoclose": false,
   "autocomplete": true,
   "bibliofile": "biblio.bib",
   "cite_by": "apalike",
   "current_citInitial": 1,
   "eqLabelWithNumbers": true,
   "eqNumInitial": 1,
   "hotkeys": {
    "equation": "Ctrl-E",
    "itemize": "Ctrl-I"
   },
   "labels_anchors": false,
   "latex_user_defs": false,
   "report_style_numbering": false,
   "user_envs_cfg": false
  }
 },
 "nbformat": 4,
 "nbformat_minor": 4
}
