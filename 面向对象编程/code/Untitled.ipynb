{
 "cells": [
  {
   "cell_type": "code",
   "execution_count": 22,
   "metadata": {},
   "outputs": [
    {
     "name": "stdout",
     "output_type": "stream",
     "text": [
      "lv 20 1\n",
      "1\n",
      "lv\n"
     ]
    }
   ],
   "source": [
    "class myclass:\n",
    "    # 类属性 静态属性 \n",
    "    a = 1\n",
    "    # self 就是 java 中的 this\n",
    "    # python面向对象中的构造函数\n",
    "    def __init__(self,name,age):\n",
    "        # 实例属性\n",
    "        self.__b = 1\n",
    "        self.name = name\n",
    "        self.age = age\n",
    "    def method1(self,arg1,arg2):\n",
    "        print(arg1,arg2)\n",
    "    def toString(self):\n",
    "        print(self.name,self.age,self.__b)\n",
    "\n",
    "obj1 = myclass(\"lv\",20)\n",
    "obj1.toString()\n",
    "\n",
    "print(myclass.a)\n",
    "\n",
    "print(obj1.name)\n",
    "        "
   ]
  },
  {
   "cell_type": "code",
   "execution_count": 20,
   "metadata": {},
   "outputs": [],
   "source": [
    "class childclass(myclass):\n",
    "    def __init__(self,name,age):\n",
    "        super().__init__(name,age)\n",
    "    def toString(self):\n",
    "        super().toString()  \n",
    "        print(\"这是子类的toString\")\n",
    "        "
   ]
  },
  {
   "cell_type": "code",
   "execution_count": 21,
   "metadata": {},
   "outputs": [
    {
     "name": "stdout",
     "output_type": "stream",
     "text": [
      "zhi 12 1\n",
      "这是子类的toString\n"
     ]
    }
   ],
   "source": [
    "obj2 = childclass(\"zhi\",12)\n",
    "obj2.toString()"
   ]
  }
 ],
 "metadata": {
  "kernelspec": {
   "display_name": "Python 3",
   "language": "python",
   "name": "python3"
  },
  "language_info": {
   "codemirror_mode": {
    "name": "ipython",
    "version": 3
   },
   "file_extension": ".py",
   "mimetype": "text/x-python",
   "name": "python",
   "nbconvert_exporter": "python",
   "pygments_lexer": "ipython3",
   "version": "3.8.5"
  },
  "latex_envs": {
   "LaTeX_envs_menu_present": true,
   "autoclose": false,
   "autocomplete": true,
   "bibliofile": "biblio.bib",
   "cite_by": "apalike",
   "current_citInitial": 1,
   "eqLabelWithNumbers": true,
   "eqNumInitial": 1,
   "hotkeys": {
    "equation": "Ctrl-E",
    "itemize": "Ctrl-I"
   },
   "labels_anchors": false,
   "latex_user_defs": false,
   "report_style_numbering": false,
   "user_envs_cfg": false
  }
 },
 "nbformat": 4,
 "nbformat_minor": 4
}
