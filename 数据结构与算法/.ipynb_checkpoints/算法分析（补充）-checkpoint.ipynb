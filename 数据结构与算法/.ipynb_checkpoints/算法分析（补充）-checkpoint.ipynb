{
 "cells": [
  {
   "cell_type": "markdown",
   "metadata": {},
   "source": [
    "# 补充几个复杂度分析的常用概念\n",
    "- 最好情况时间复杂度\n",
    "- 最坏情况时间复杂度\n",
    "- 平均时间复杂度\n",
    "- 均摊时间复杂度"
   ]
  },
  {
   "cell_type": "markdown",
   "metadata": {},
   "source": [
    "# 最好、最坏情况时间复杂度（往往和输入相关）\n",
    "- 最好情况时间复杂度就是，在最理想的情况下，执行这段代码的时间复杂度。\n",
    "- 最坏情况时间复杂度就是，在最糟糕的情况下，执行这段代码的时间复杂度"
   ]
  },
  {
   "cell_type": "markdown",
   "metadata": {},
   "source": [
    "```java\n",
    "// n表示数组array的长度\n",
    "int find(int[] array, int n, int x) {\n",
    "  int i = 0;\n",
    "  int pos = -1;\n",
    "  for (; i < n; ++i) {\n",
    "    if (array[i] == x) pos = i;\n",
    "  }\n",
    "  return pos;\n",
    "}\n",
    "```"
   ]
  },
  {
   "cell_type": "markdown",
   "metadata": {},
   "source": [
    "```java\n",
    "// n表示数组array的长度\n",
    "int find(int[] array, int n, int x) {\n",
    "  int i = 0;\n",
    "  int pos = -1;\n",
    "  for (; i < n; ++i) {\n",
    "    if (array[i] == x) {\n",
    "       pos = i;\n",
    "       break;\n",
    "    }\n",
    "  }\n",
    "  return pos;\n",
    "}\n",
    "```"
   ]
  },
  {
   "cell_type": "markdown",
   "metadata": {},
   "source": [
    "### 最好情况复杂度是多少？O(1)\n",
    "### 最坏情况复杂度是多少？O(n)"
   ]
  },
  {
   "cell_type": "markdown",
   "metadata": {},
   "source": [
    "# 平均情况时间复杂度"
   ]
  },
  {
   "cell_type": "markdown",
   "metadata": {},
   "source": [
    "要查找的变量 x 在数组中的位置，有 n+1 种情况：在数组的 0～n-1 位置中和不在数组中。我们把每种情况下，查找需要遍历的元素个数累加起来，然后再除以 n+1，就可以得到需要遍历的元素个数的平均值，即：\n",
    "$$\n",
    "    \\frac{1+2+3+...+n+n}{n+1} = \\frac{n(n+3)}{2(n+1)}≈O(n) \n",
    "$$"
   ]
  },
  {
   "cell_type": "markdown",
   "metadata": {},
   "source": [
    "**n+1 种情况，出现的概率并不是一样的!!!**\n",
    "\n",
    "前面的推导过程中存在的最大问题就是，没有将各种情况发生的概率考虑进去。如果我们把每种情况发生的概率也考虑进去，那平均时间复杂度的计算过程就变成了这样。（为了简单起见，我们假设，元素在不在数组的概率是 1/2 。\n",
    "$$\n",
    "    1\\times\\frac{1}{2n}+2\\times\\frac{1}{2n}+...+n\\times\\frac{1}{2n}+n\\times\\frac{1}{2} = \\frac{3n+1}{4}\\approx O(n)\n",
    "$$"
   ]
  },
  {
   "cell_type": "markdown",
   "metadata": {},
   "source": [
    "平均情况时间复杂度本质上就是所有情况复杂度的加权平均值，这在概率论中也叫**期望**，因此也叫期望时间复杂度。"
   ]
  },
  {
   "cell_type": "markdown",
   "metadata": {},
   "source": [
    "# 均摊时间复杂度\n",
    "均摊时间复杂度，听起来跟平均时间复杂度有点儿像。对于初学者来说，这两个概念确实非常容易弄混。本质上，均摊时间复杂度其实是一种特殊的平均时间复杂度。我们以一个例子来说明，他们的异同。"
   ]
  },
  {
   "cell_type": "markdown",
   "metadata": {},
   "source": [
    "```java\n",
    " // array表示一个长度为n的数组\n",
    " // 代码中的array.length就等于n\n",
    " int[] array = new int[n];\n",
    " int count = 0;\n",
    " \n",
    " void insert(int val) {\n",
    "    if (count == array.length) {\n",
    "       int sum = 0;\n",
    "       for (int i = 0; i < array.length; ++i) {\n",
    "          sum = sum + array[i];\n",
    "       }\n",
    "       array[0] = sum;\n",
    "       count = 1;\n",
    "    }\n",
    "\n",
    "    array[count] = val;\n",
    "    ++count;\n",
    " }\n",
    "```"
   ]
  },
  {
   "cell_type": "markdown",
   "metadata": {},
   "source": [
    "对于这个例子，\n",
    "- 最好情况 O(1)\n",
    "- 最坏情况 O(n)\n",
    "- 平均。n+1种情况，前n种就是插入,O(1);第n+1种就是当数组满时，需要累加，O(n)\n",
    "\n",
    "$$\n",
    "    n[1\\times\\frac{1}{n+1}] +n\\times\\frac{1}{n+1} = O(1)\n",
    "$$\n"
   ]
  },
  {
   "cell_type": "markdown",
   "metadata": {},
   "source": [
    "# 对比一下find和insert函数\n",
    "- 首先，find() 函数在极端情况下，复杂度才为 O(1)。但 insert() 在大部分情况下，时间复杂度都为 O(1)。只有个别情况下，复杂度才比较高，为 O(n)。\n",
    "- 对于 insert() 函数来说，O(1) 时间复杂度的插入和 O(n) 时间复杂度的插入，出现的频率是非常有规律的，而且有一定的前后时序关系，一般都是一个 O(n) 插入之后，紧跟着 n-1 个 O(1) 的插入操作，循环往复。\n",
    "\n",
    "针对这种特殊的场景，我们引入了一种更加简单的分析方法：**摊还分析法**，通过摊还分析得到的时间复杂度我们起了一个名字，叫**均摊时间复杂度**。"
   ]
  },
  {
   "cell_type": "markdown",
   "metadata": {},
   "source": [
    "# 摊还分析法\n",
    "每一次 O(n) 的插入操作，都会跟着 n-1 次 O(1) 的插入操作，所以把耗时多的那次操作均摊到接下来的 n-1 次耗时少的操作上，均摊下来，这一组连续的操作的均摊时间复杂度就是 O(1)。这就是均摊分析的大致思路。\n",
    "\n",
    "# 摊还分析法应用场景\n",
    "对一个数据结构进行一组连续操作中，大部分情况下时间复杂度都很低，只有个别情况下时间复杂度比较高，而且这些操作之间存在前后连贯的时序关系，这个时候，我们就可以将这一组操作放在一块儿分析，看是否能将较高时间复杂度那次操作的耗时，平摊到其他那些时间复杂度比较低的操作上。"
   ]
  },
  {
   "cell_type": "markdown",
   "metadata": {},
   "source": [
    "# 通过这个例子，其实不难看出，均摊时间其实本质是一种等概率的平均时间\n",
    "平均时间找的是所有可能的情况，然后根据每种情况发生的概率计算加权平均值。\n",
    "\n",
    "均摊时间其实就是对一组操作计算均值，这组操作就代表了各种情况，且每种情况等概率发生。"
   ]
  },
  {
   "cell_type": "markdown",
   "metadata": {},
   "source": [
    "# 课后习题\n",
    "```java\n",
    "// 全局变量，大小为10的数组array，长度len，下标i。\n",
    "int array[] = new int[10]; \n",
    "int len = 10;\n",
    "int i = 0;\n",
    "\n",
    "// 往数组中添加一个元素\n",
    "void add(int element) {\n",
    "   if (i >= len) { // 数组空间不够了\n",
    "     // 重新申请一个2倍大小的数组空间\n",
    "     int new_array[] = new int[len*2];\n",
    "     // 把原来array数组中的数据依次copy到new_array\n",
    "     for (int j = 0; j < len; ++j) {\n",
    "       new_array[j] = array[j];\n",
    "     }\n",
    "     // new_array复制给array，array现在大小就是2倍len了\n",
    "     array = new_array;\n",
    "     len = 2 * len;\n",
    "   }\n",
    "   // 将element放到下标为i的位置，下标i加一\n",
    "   array[i] = element;\n",
    "   ++i;\n",
    "}\n",
    "```\n",
    "- 最好情况就是直接插入O(1)\n",
    "- 最坏情况就是O(n)\n",
    "- 均摊时间需要具体分析👇\n",
    "\n",
    "摊还分析，均摊时间复杂度\n",
    "<div style=\"color:red\">\n",
    "n-1个O(1) 1个O(k) n-1个O(1)  1个O(2k)  ...... n-1个O(1) 1个O(Nk)\n",
    "    \n",
    "其中，N=n/k, n表示插入的数据量\n",
    "$$\n",
    "[(k-1)*1 + k + (k-1)*1 + 2k + ... + (k-1)*1 + n/k * k ] / n \\\\\n",
    "= [(k-1)*n/k + (1+2+...+n/k)*k]/n  \\\\\n",
    "= (k-1)/k+{[(n/k+1)n/k]/2}/n \\\\ \n",
    "= (k-1)/k + (n/k+1)/2k \\\\\n",
    "= (k-1)/k + n/2k^2 + 1/2k \\\\\n",
    "= cn + b (c,b是与k相关的常数） \\\\\n",
    "≈ O(n/k^2)  \\\\\n",
    "$$\n",
    "当k比较小，而n比较大时，接近O(n);反之，则接近O(1)\n",
    "</div>"
   ]
  }
 ],
 "metadata": {
  "kernelspec": {
   "display_name": "Python 3",
   "language": "python",
   "name": "python3"
  },
  "language_info": {
   "codemirror_mode": {
    "name": "ipython",
    "version": 3
   },
   "file_extension": ".py",
   "mimetype": "text/x-python",
   "name": "python",
   "nbconvert_exporter": "python",
   "pygments_lexer": "ipython3",
   "version": "3.8.5"
  },
  "latex_envs": {
   "LaTeX_envs_menu_present": true,
   "autoclose": false,
   "autocomplete": true,
   "bibliofile": "biblio.bib",
   "cite_by": "apalike",
   "current_citInitial": 1,
   "eqLabelWithNumbers": true,
   "eqNumInitial": 1,
   "hotkeys": {
    "equation": "Ctrl-E",
    "itemize": "Ctrl-I"
   },
   "labels_anchors": false,
   "latex_user_defs": false,
   "report_style_numbering": false,
   "user_envs_cfg": false
  }
 },
 "nbformat": 4,
 "nbformat_minor": 4
}
