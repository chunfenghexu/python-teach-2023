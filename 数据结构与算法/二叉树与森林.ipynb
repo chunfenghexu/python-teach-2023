{
 "cells": [
  {
   "cell_type": "markdown",
   "metadata": {},
   "source": [
    "# 树与二叉树\n",
    "\n",
    "前面我们讲的都是线性表结构，栈、队列等等。今天我们讲一种非线性表结构，树。树这种数据结构比线性表的数据结构要复杂得多"
   ]
  },
  {
   "cell_type": "markdown",
   "metadata": {},
   "source": [
    "# 树\n",
    "什么是“树”？树有哪些特征？\n",
    "\n",
    "![](./images/treeStructure.jpg)\n",
    "\n",
    "“树”这种数据结构真的很像我们现实生活中的“树”，这里面每个元素我们叫做“节点”；用来连接相邻节点之间的关系，我们叫做“父子关系”。\n",
    "\n"
   ]
  },
  {
   "cell_type": "markdown",
   "metadata": {},
   "source": [
    "除此之外，关于“树”，还有三个比较相似的概念：高度（Height）、深度（Depth）、层（Level）。它们的定义是这样的：\n",
    "\n",
    "![](./images/treeBaseConcept.jpg)\n",
    "![](./images/treeBaseConcept2.jpg)"
   ]
  },
  {
   "cell_type": "markdown",
   "metadata": {},
   "source": [
    "# 二叉树\n",
    "二叉树，顾名思义，每个节点最多有两个“叉”，也就是两个子节点，分别是左子节点和右子节点。不过，二叉树并不要求每个节点都有两个子节点，有的节点只有左子节点，有的节点只有右子节点。我画的这几个都是二叉树。以此类推，你可以想象一下四叉树、八叉树长什么样子。\n",
    "\n",
    "![](./images/binaryTreeStructure.jpg)\n",
    "\n",
    "# 满二叉树 和 完全二叉树\n",
    "\n",
    "## 什么是满二叉树\n",
    "\n",
    "满二叉树就是，树中所有节点的左子树和右子树都是同样高度的。\n",
    "\n",
    "- 其中，编号 2 的二叉树中，叶子节点全都在最底层，除了叶子节点之外，每个节点都有左右两个子节点，这种二叉树就叫做满二叉树。\n",
    "\n",
    "- 编号 3 的二叉树中，叶子节点都在最底下两层，最后一层的叶子节点都靠左排列，并且除了最后一层，其他层的节点个数都要达到最大，这种二叉树叫做完全二叉树。\n",
    "\n",
    "![](./images/fullyBinaryTree.jpg)"
   ]
  },
  {
   "cell_type": "markdown",
   "metadata": {},
   "source": [
    "# 如何表示（或存储）一棵二叉树呢？\n",
    "### 链式存储法\n",
    "\n",
    "![](./images/LinkBinaryTree.jpg)"
   ]
  },
  {
   "cell_type": "code",
   "execution_count": 4,
   "metadata": {},
   "outputs": [],
   "source": [
    "# code \n",
    "class BinaryTreeNode:\n",
    "    def __init__(self,data):\n",
    "        self.data = data\n",
    "        self.left = None\n",
    "        self.right = None\n",
    "class BinaryTree:\n",
    "    def __init__(self,root):\n",
    "        self.root = root\n",
    "    def pre_order(self):\n",
    "        return self.__pre_order(self.root)\n",
    "    def center_order(self):\n",
    "        return self.__center_order(self.root)\n",
    "    def post_order(self):\n",
    "        return self.__post_order(self.root)\n",
    "    def __pre_order(self,root):\n",
    "        if root == None:return\n",
    "        print(root.data)\n",
    "        self.__pre_order(root.left)\n",
    "        self.__pre_order(root.right)\n",
    "    def __center_order(self,root):\n",
    "        if root == None:return\n",
    "        self.__pre_order(root.left)\n",
    "        print(root.data)\n",
    "        self.__pre_order(root.right)\n",
    "    def __post_order(self,root):\n",
    "        if root == None:return\n",
    "        self.__pre_order(root.left)\n",
    "        self.__pre_order(root.right)\n",
    "        print(root.data)"
   ]
  },
  {
   "cell_type": "code",
   "execution_count": 5,
   "metadata": {},
   "outputs": [
    {
     "name": "stdout",
     "output_type": "stream",
     "text": [
      "1\n",
      "2\n",
      "3\n"
     ]
    }
   ],
   "source": [
    "node1 = BinaryTreeNode(1)\n",
    "node2 = BinaryTreeNode(2)\n",
    "node3 = BinaryTreeNode(3)\n",
    "node1.left = node2\n",
    "node1.right = node3\n",
    "\n",
    "tree = BinaryTree(node1)\n",
    "\n",
    "tree.pre_order()"
   ]
  },
  {
   "cell_type": "code",
   "execution_count": 10,
   "metadata": {},
   "outputs": [],
   "source": [
    "# 复杂二叉树\n",
    "nA = TreeNode('A')\n",
    "nB = TreeNode('B')\n",
    "nC = TreeNode('C')\n",
    "nD = TreeNode('D')\n",
    "nE = TreeNode('E')\n",
    "nF = TreeNode('F')\n",
    "nG = TreeNode('G')\n",
    "nH = TreeNode('H')\n",
    "\n",
    "nA.left = nB\n",
    "nA.right= nC\n",
    "nB.left = nD\n",
    "nC.left = nE\n",
    "nE.right = nH\n",
    "nD.left = nF\n",
    "nD.right = nG\n"
   ]
  },
  {
   "cell_type": "markdown",
   "metadata": {},
   "source": [
    "### 顺序存储法\n",
    "\n",
    "我们把根节点存储在下标 i = 1 的位置，那左子节点存储在下标 2 * i = 2 的位置，右子节点存储在 2 * i + 1 = 3 的位置。以此类推，B 节点的左子节点存储在 2 * i = 2 * 2 = 4 的位置，右子节点存储在 2 * i + 1 = 2 * 2 + 1 = 5 的位置。\n",
    "\n",
    "反过来，下标为 i/2 的位置存储就是它的父节点。通过这种方式，我们只要知道根节点存储的位置**（一般情况下，为了方便计算子节点，根节点会存储在下标为 1 的位置）**，这样就可以通过下标计算，把整棵树都串起来。\n",
    "\n",
    "![](./images/ArrayBinaryTree.jpg)"
   ]
  },
  {
   "cell_type": "markdown",
   "metadata": {},
   "source": [
    "# 作业，自己编程实现"
   ]
  },
  {
   "cell_type": "code",
   "execution_count": 2,
   "metadata": {},
   "outputs": [],
   "source": [
    "# code\n",
    "# 1. 顺序结构一定是有一个长度限制， i , 2*i > len(arr) \n",
    "# 2. arr[2*i] == None or arr[2*i+1] == None"
   ]
  },
  {
   "cell_type": "markdown",
   "metadata": {},
   "source": [
    "# 思考题01： 顺序存储法有什么问题呢？"
   ]
  },
  {
   "cell_type": "markdown",
   "metadata": {},
   "source": [
    "# 思考题02：知道了如何表示二叉树，那么对于一个普通的树，我们如何表示呢？"
   ]
  },
  {
   "cell_type": "code",
   "execution_count": 7,
   "metadata": {},
   "outputs": [],
   "source": [
    "# code tips:主要是用列表表示一个节点有多少个孩子"
   ]
  },
  {
   "cell_type": "markdown",
   "metadata": {},
   "source": [
    "# 二叉树的前序，中序，后序遍历\n",
    "- 前序遍历是指，对于树中的任意节点来说，先打印这个节点，然后再打印它的左子树，最后打印它的右子树。\n",
    "- 中序遍历是指，对于树中的任意节点来说，先打印它的左子树，然后再打印它本身，最后打印它的右子树。\n",
    "- 后序遍历是指，对于树中的任意节点来说，先打印它的左子树，然后再打印它的右子树，最后打印这个节点本身。\n",
    "\n",
    "![](./images/front-end-center-loop.jpg)"
   ]
  },
  {
   "cell_type": "markdown",
   "metadata": {},
   "source": [
    "# 前序遍历（先序遍历）\n",
    "(中左右)\n",
    "\n",
    "![](./images/BinaryTreeFrontLoop.gif)"
   ]
  },
  {
   "cell_type": "code",
   "execution_count": 26,
   "metadata": {},
   "outputs": [],
   "source": [
    "# 非递归的前序遍历\n",
    "def pre_order_(root):\n",
    "    stack = []\n",
    "    p = root\n",
    "    while p!=None or len(stack)!=0:\n",
    "        if p!=None:\n",
    "            print(p.data)\n",
    "            stack.append(p)\n",
    "            p = p.left\n",
    "        else:\n",
    "            node = stack.pop()\n",
    "            if node.right!=None:\n",
    "                p = node.right"
   ]
  },
  {
   "cell_type": "code",
   "execution_count": 30,
   "metadata": {},
   "outputs": [],
   "source": [
    "# 非递归的中序遍历 \n",
    "def center_order_(root):\n",
    "    stack = []\n",
    "    p = root\n",
    "    while p!=None or len(stack)!=0:\n",
    "        if p!=None:\n",
    "            stack.append(p)\n",
    "            p = p.left\n",
    "        else:\n",
    "            node = stack.pop()\n",
    "            print(node.data)\n",
    "            if node.right!=None:\n",
    "                p = node.right"
   ]
  },
  {
   "cell_type": "code",
   "execution_count": 31,
   "metadata": {},
   "outputs": [],
   "source": [
    "# 非递归的后序遍历 \n",
    "def post_order_(root):\n",
    "    stack = []\n",
    "    p = root\n",
    "    r = None # 辅助指针，用于标识是否遍历过右子树\n",
    "    while p!=None or len(stack)!=0:\n",
    "        if p!=None:\n",
    "            stack.append(p)\n",
    "            p = p.left\n",
    "        else:\n",
    "            node = None if len(stack)==0 else stack[-1]\n",
    "            if node.right!=None and node.right!=r:\n",
    "                # 如果有右孩子，且右孩子没有遍历过\n",
    "                p = node.right\n",
    "            else:\n",
    "                p = stack.pop()\n",
    "                print(p.data)\n",
    "                r = p\n",
    "                p = None"
   ]
  },
  {
   "cell_type": "code",
   "execution_count": 32,
   "metadata": {},
   "outputs": [
    {
     "name": "stdout",
     "output_type": "stream",
     "text": [
      "F\n",
      "G\n",
      "D\n",
      "B\n",
      "H\n",
      "E\n",
      "C\n",
      "A\n"
     ]
    }
   ],
   "source": [
    "post_order_(nA)"
   ]
  },
  {
   "cell_type": "markdown",
   "metadata": {},
   "source": [
    "# 中序遍历\n",
    "(左中右)\n",
    "![](./images/BinaryTreeCenterLoop.gif)"
   ]
  },
  {
   "cell_type": "code",
   "execution_count": null,
   "metadata": {},
   "outputs": [],
   "source": [
    "# code"
   ]
  },
  {
   "cell_type": "markdown",
   "metadata": {},
   "source": [
    "# 后序遍历\n",
    "(左右中)\n",
    "![](./images/BinaryTreeBackLoop.gif)"
   ]
  },
  {
   "cell_type": "code",
   "execution_count": 3,
   "metadata": {},
   "outputs": [],
   "source": [
    "# code"
   ]
  },
  {
   "cell_type": "markdown",
   "metadata": {},
   "source": [
    "# 思考题03：能不能不用递归，也完成二叉树的前序，中序，后序遍历呢？\n",
    "仍然是得用到栈的数据结构"
   ]
  },
  {
   "cell_type": "markdown",
   "metadata": {},
   "source": [
    "# 二叉树的层次遍历\n",
    "![](./images/BinaryTreeHierLoop.png)"
   ]
  },
  {
   "cell_type": "code",
   "execution_count": 32,
   "metadata": {},
   "outputs": [],
   "source": [
    "# code\n",
    "def level_order(root):\n",
    "    if root==None:return\n",
    "    queue = [root]\n",
    "    while len(queue)!=0:\n",
    "        node = queue.pop(0)\n",
    "        print(node.data)\n",
    "        if node.left!=None:queue.append(node.left)\n",
    "        if node.right!=None:queue.append(node.right)"
   ]
  },
  {
   "cell_type": "code",
   "execution_count": 33,
   "metadata": {},
   "outputs": [
    {
     "name": "stdout",
     "output_type": "stream",
     "text": [
      "A\n",
      "B\n",
      "C\n",
      "D\n",
      "E\n",
      "F\n",
      "G\n",
      "H\n"
     ]
    }
   ],
   "source": [
    "level_order(nA)"
   ]
  },
  {
   "cell_type": "markdown",
   "metadata": {},
   "source": [
    "# 练习题\n",
    "- https://leetcode-cn.com/problems/maximum-depth-of-binary-tree/\n",
    "- https://leetcode-cn.com/problems/same-tree/\n",
    "- https://leetcode-cn.com/problems/path-sum/\n",
    "- https://leetcode-cn.com/problems/diameter-of-binary-tree/ "
   ]
  },
  {
   "cell_type": "code",
   "execution_count": 2,
   "metadata": {},
   "outputs": [],
   "source": [
    "# - https://leetcode-cn.com/problems/same-tree/\n",
    "class Solution(object):\n",
    "    def isSameTree(self, p, q):\n",
    "        \"\"\"\n",
    "        :type p: TreeNode\n",
    "        :type q: TreeNode\n",
    "        :rtype: bool\n",
    "        \"\"\"\n",
    "        if p==None or q==None:\n",
    "            return False if p!=q else True\n",
    "        if p.val != q.val:\n",
    "            return False\n",
    "        leftRes = self.isSameTree(p.left,q.left)\n",
    "        rightRes = self.isSameTree(p.right,q.right)\n",
    "        return leftRes and rightRes"
   ]
  },
  {
   "cell_type": "markdown",
   "metadata": {},
   "source": [
    "# 路径总和\n",
    "![](./images/路径总和1.png)\n",
    "![](./images/路径总和2.png)"
   ]
  },
  {
   "cell_type": "code",
   "execution_count": 4,
   "metadata": {},
   "outputs": [],
   "source": [
    "# 第一种做法\n",
    "class Solution(object):\n",
    "    def __init__(self):\n",
    "        self.sum = 0\n",
    "    def hasPathSum(self, root, targetSum):\n",
    "        \"\"\"\n",
    "        :type root: TreeNode\n",
    "        :type targetSum: int\n",
    "        :rtype: bool\n",
    "        \"\"\"\n",
    "        if root == None:return False\n",
    "        if root.left == None and root.right == None:\n",
    "            self.sum += root.val\n",
    "            return True if self.sum == targetSum else False\n",
    "        else:\n",
    "            self.sum += root.val\n",
    "            leftRes = self.hasPathSum(root.left,targetSum)\n",
    "            self.sum -= 0 if root.left==None else root.left.val\n",
    "            rightRes = self.hasPathSum(root.right,targetSum)\n",
    "            self.sum -= 0 if root.right==None else root.right.val\n",
    "            return leftRes or rightRes"
   ]
  },
  {
   "cell_type": "code",
   "execution_count": 3,
   "metadata": {},
   "outputs": [],
   "source": [
    "# 第二种做法\n",
    "class Solution(object):\n",
    "    def hasPathSum(self, root, targetSum):\n",
    "        \"\"\"\n",
    "        :type root: TreeNode\n",
    "        :type targetSum: int\n",
    "        :rtype: bool\n",
    "        \"\"\"\n",
    "        if root == None:\n",
    "            return False\n",
    "        if root.left == root.right == None:\n",
    "            return True if targetSum-root.val == 0 else False\n",
    "        else:\n",
    "            return self.hasPathSum(root.left,targetSum-root.val) or \\\n",
    "            self.hasPathSum(root.right,targetSum-root.val)"
   ]
  },
  {
   "cell_type": "code",
   "execution_count": null,
   "metadata": {},
   "outputs": [],
   "source": [
    "def F_recur(x,y,res):\n",
    "    pass\n",
    "res = [1]\n",
    "x,y=0,0\n",
    "F_recurcur(x,y,res)"
   ]
  },
  {
   "cell_type": "code",
   "execution_count": 3,
   "metadata": {},
   "outputs": [
    {
     "name": "stdout",
     "output_type": "stream",
     "text": [
      "[1]\n",
      "[2]\n"
     ]
    }
   ],
   "source": [
    "l = [1]\n",
    "def F(l):\n",
    "    # 对l进行修改的话\n",
    "    l[0] = 2\n",
    "print(l)\n",
    "F(l)\n",
    "print(l)"
   ]
  },
  {
   "cell_type": "code",
   "execution_count": 4,
   "metadata": {},
   "outputs": [
    {
     "name": "stdout",
     "output_type": "stream",
     "text": [
      "1\n",
      "1\n"
     ]
    }
   ],
   "source": [
    "l = 1\n",
    "def F(l):\n",
    "    l = 2\n",
    "print(l)\n",
    "F(l)\n",
    "print(l)"
   ]
  },
  {
   "cell_type": "markdown",
   "metadata": {},
   "source": [
    "# 不同的思维方式，导致写出来的代码的简洁度是不一样。"
   ]
  },
  {
   "cell_type": "code",
   "execution_count": 2,
   "metadata": {},
   "outputs": [],
   "source": [
    "# (leftDeep,rightDeep,result) ==> （root左边的深度，root右边的深度，我们所期望的结果）\n",
    "# leftDeep = Max{root.left.leftDeep,root.left.rightDeep}+1\n",
    "# rightDeep = Max{root.right.leftDeep,root,right.rightDeep}+1\n",
    "# result = Max{root.left.result,root.right.result,root.leftDeep+root.rightDeep}\n",
    "class Solution(object):\n",
    "    def recur(self,root):\n",
    "        if root == None:\n",
    "            # 叶子节点\n",
    "            return (-1,-1,0)\n",
    "        cleft = self.recur(root.left)\n",
    "        cright = self.recur(root.right)\n",
    "        \n",
    "        pleft = max(cleft[0],cleft[1])+1\n",
    "        pright = max(cright[0],cright[1])+1\n",
    "        pres = max(pleft+pright,cleft[2],cright[2])\n",
    "        return (pleft,pright,pres)\n",
    "    def diameterOfBinaryTree(self, root):\n",
    "        \"\"\"\n",
    "        :type root: TreeNode\n",
    "        :rtype: int\n",
    "        \"\"\"\n",
    "        res = self.recur(root)\n",
    "        return res[2]"
   ]
  },
  {
   "cell_type": "markdown",
   "metadata": {},
   "source": [
    "# Answer-思考题01\n",
    "当不是完全二叉树时，顺序存储法比较浪费空间。\n",
    "![](./images/ArrayBinaryTree2.jpg)"
   ]
  },
  {
   "cell_type": "markdown",
   "metadata": {},
   "source": [
    "# Answer-思考题03"
   ]
  }
 ],
 "metadata": {
  "kernelspec": {
   "display_name": "Python 3",
   "language": "python",
   "name": "python3"
  },
  "language_info": {
   "codemirror_mode": {
    "name": "ipython",
    "version": 3
   },
   "file_extension": ".py",
   "mimetype": "text/x-python",
   "name": "python",
   "nbconvert_exporter": "python",
   "pygments_lexer": "ipython3",
   "version": "3.8.5"
  },
  "latex_envs": {
   "LaTeX_envs_menu_present": true,
   "autoclose": false,
   "autocomplete": true,
   "bibliofile": "biblio.bib",
   "cite_by": "apalike",
   "current_citInitial": 1,
   "eqLabelWithNumbers": true,
   "eqNumInitial": 1,
   "hotkeys": {
    "equation": "Ctrl-E",
    "itemize": "Ctrl-I"
   },
   "labels_anchors": false,
   "latex_user_defs": false,
   "report_style_numbering": false,
   "user_envs_cfg": false
  }
 },
 "nbformat": 4,
 "nbformat_minor": 4
}
