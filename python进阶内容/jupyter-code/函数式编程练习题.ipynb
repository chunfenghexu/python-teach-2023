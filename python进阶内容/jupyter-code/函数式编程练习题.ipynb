{
 "cells": [
  {
   "cell_type": "markdown",
   "metadata": {},
   "source": [
    "# 1. 手动实现 map/reduce 高阶函数"
   ]
  },
  {
   "cell_type": "markdown",
   "metadata": {},
   "source": [
    "# 2. 实现minmax高阶函数，minmax函数用来求一个可迭代对象中的最小值或最大值，其中minmax函数的参数设计如下：\n",
    "```python\n",
    "minmax(iterable,[m = 'min',key=function])\n",
    "```\n",
    "- m表示求最小值还是最大值，默认为 min，另一个参数值为 max\n",
    "- key为一个函数，函数接受一个值或对象，用来对iterable中元素进行映射后再求解最小值或最大值，默认为 lambda x:x"
   ]
  },
  {
   "cell_type": "markdown",
   "metadata": {},
   "source": [
    "# 3.使用匿名函数，构建以下函数关系 \n",
    "$$\n",
    "f(g(x)) = g(x)^2 + g(x) + 1  \\newline\n",
    "g(x) = x^2 + x + 1\n",
    "$$"
   ]
  },
  {
   "cell_type": "markdown",
   "metadata": {},
   "source": [
    "# 4.请编写一个decorator(装饰器)，能在函数调用的前后打印出'begin call {funcname} at  {time}'和'end call {funcname} at {time}'的日志。\n",
    "\n",
    "- 其中，{funcname}和{time}分别表示被装饰函数的名称，以及调用开始和结束时的时间。\n",
    "- {time} 需要遵循 HH:MM:SS.xxx 格式打印\n",
    "- 提示：可以`import time`或`import datetime`模块进行时间的获取和解析"
   ]
  }
 ],
 "metadata": {
  "kernelspec": {
   "display_name": "Python 3",
   "language": "python",
   "name": "python3"
  },
  "language_info": {
   "codemirror_mode": {
    "name": "ipython",
    "version": 3
   },
   "file_extension": ".py",
   "mimetype": "text/x-python",
   "name": "python",
   "nbconvert_exporter": "python",
   "pygments_lexer": "ipython3",
   "version": "3.8.5"
  },
  "latex_envs": {
   "LaTeX_envs_menu_present": true,
   "autoclose": false,
   "autocomplete": true,
   "bibliofile": "biblio.bib",
   "cite_by": "apalike",
   "current_citInitial": 1,
   "eqLabelWithNumbers": true,
   "eqNumInitial": 1,
   "hotkeys": {
    "equation": "Ctrl-E",
    "itemize": "Ctrl-I"
   },
   "labels_anchors": false,
   "latex_user_defs": false,
   "report_style_numbering": false,
   "user_envs_cfg": false
  }
 },
 "nbformat": 4,
 "nbformat_minor": 4
}
