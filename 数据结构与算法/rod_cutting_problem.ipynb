{
 "cells": [
  {
   "cell_type": "markdown",
   "metadata": {},
   "source": [
    "### 切木段问题 \n"
   ]
  },
  {
   "cell_type": "markdown",
   "metadata": {},
   "source": [
    "![rod cut](./images/rod_cut.PNG)"
   ]
  },
  {
   "cell_type": "code",
   "execution_count": 154,
   "metadata": {},
   "outputs": [
    {
     "data": {
      "text/plain": [
       "12"
      ]
     },
     "execution_count": 154,
     "metadata": {},
     "output_type": "execute_result"
    }
   ],
   "source": [
    "prices = [0,1,5,8,9,10,17,17,20,24,30,33]\n",
    "len(prices)"
   ]
  },
  {
   "cell_type": "code",
   "execution_count": 172,
   "metadata": {},
   "outputs": [],
   "source": [
    "from collections import defaultdict\n",
    "rodMaps = defaultdict(int,{i : prices[i] for i in range(len(prices))})"
   ]
  },
  {
   "cell_type": "code",
   "execution_count": 158,
   "metadata": {},
   "outputs": [
    {
     "data": {
      "text/plain": [
       "{0: 0,\n",
       " 1: 1,\n",
       " 2: 5,\n",
       " 3: 8,\n",
       " 4: 9,\n",
       " 5: 10,\n",
       " 6: 17,\n",
       " 7: 17,\n",
       " 8: 20,\n",
       " 9: 24,\n",
       " 10: 30,\n",
       " 11: 33}"
      ]
     },
     "execution_count": 158,
     "metadata": {},
     "output_type": "execute_result"
    }
   ],
   "source": [
    "rodMaps"
   ]
  },
  {
   "cell_type": "markdown",
   "metadata": {},
   "source": [
    "### 递归解决，没有cache"
   ]
  },
  {
   "cell_type": "code",
   "execution_count": 219,
   "metadata": {},
   "outputs": [],
   "source": [
    "def getMaxValue(rodLen,solution):\n",
    "    # if rod can not be cut\n",
    "    if rodLen < 1:\n",
    "        print(\"Sorry,your rod can not be cut\")\n",
    "        return 0\n",
    "    if rodLen == 1 :\n",
    "        return rodMaps[1]\n",
    "    # or rod can be cut \n",
    "    maxV,leftV,rightV = rodMaps[rodLen],0,0\n",
    "    tempsolution = (0,rodLen)\n",
    "    for segment in range(1,rodLen):\n",
    "        leftV = rodMaps[segment] if segment <= 11 else getMaxValue(segment,solution)\n",
    "        rightV = rodMaps[rodLen-segment] if rodLen-segment <= 11 else getMaxValue(rodLen-segment,solution)\n",
    "        if leftV + rightV > maxV:\n",
    "            maxV = leftV + rightV\n",
    "            tempsolution = (segment,rodLen-segment)\n",
    "    solution.append((segment,rodLen-segment))\n",
    "    return maxV"
   ]
  },
  {
   "cell_type": "code",
   "execution_count": 234,
   "metadata": {
    "scrolled": true
   },
   "outputs": [
    {
     "name": "stdout",
     "output_type": "stream",
     "text": [
      "Wall time: 710 ms\n",
      "68\n"
     ]
    }
   ],
   "source": [
    "solution = []\n",
    "%time v = getMaxValue(23,solution)\n",
    "print(v)"
   ]
  },
  {
   "cell_type": "markdown",
   "metadata": {},
   "source": [
    "### 递归解决，带有cache"
   ]
  },
  {
   "cell_type": "code",
   "execution_count": 227,
   "metadata": {},
   "outputs": [],
   "source": [
    "def getMaxValueWithCache(rodLen,solution,cache):\n",
    "    # if rod can not be cut\n",
    "    if rodLen < 1:\n",
    "        print(\"Sorry,your rod can not be cut\")\n",
    "        return 0\n",
    "    if rodLen == 1 :\n",
    "        return rodMaps[1]\n",
    "    # or rod can be cut \n",
    "    maxV,leftV,rightV = rodMaps[rodLen],0,0\n",
    "    tempsolution = (0,rodLen)\n",
    "    for segment in range(1,rodLen):\n",
    "        # cut left\n",
    "        if segment <= 11:\n",
    "            leftV = rodMaps[segment]\n",
    "        else:\n",
    "            leftV = cache[segment] if cache[segment] else getMaxValueWithCache(segment,solution,cache)\n",
    "            cache[segment] = leftV\n",
    "        # cut right\n",
    "        if rodLen-segment <=11:\n",
    "            rightV = rodMaps[rodLen-segment]\n",
    "        else:\n",
    "            rightV = cache[rodLen-segment] if cache[rodLen-segment] else getMaxValueWithCache(rodLen-segment,solution,cache)\n",
    "            cache[rodLen-segment] = rightV\n",
    "        # select the best cut strategy\n",
    "        if leftV + rightV > maxV:\n",
    "            maxV = leftV + rightV\n",
    "            tempsolution = (segment,rodLen-segment)\n",
    "    solution.append(tempsolution)\n",
    "    cache[rodLen] = maxV\n",
    "    return maxV"
   ]
  },
  {
   "cell_type": "code",
   "execution_count": 228,
   "metadata": {},
   "outputs": [],
   "source": [
    "from collections import defaultdict \n",
    "cache = defaultdict(int)"
   ]
  },
  {
   "cell_type": "code",
   "execution_count": 237,
   "metadata": {},
   "outputs": [
    {
     "name": "stdout",
     "output_type": "stream",
     "text": [
      "Wall time: 0 ns\n"
     ]
    },
    {
     "data": {
      "text/plain": [
       "369"
      ]
     },
     "execution_count": 237,
     "metadata": {},
     "output_type": "execute_result"
    }
   ],
   "source": [
    "solution2 = []\n",
    "%time getMaxValueWithCache(123,solution2,cache)"
   ]
  },
  {
   "cell_type": "code",
   "execution_count": 236,
   "metadata": {},
   "outputs": [],
   "source": [
    "solution2 = { item[0]+item[1] : (item[0],item[1]) for item in solution2}"
   ]
  },
  {
   "cell_type": "code",
   "execution_count": 218,
   "metadata": {},
   "outputs": [
    {
     "data": {
      "text/plain": [
       "{12: (2, 10),\n",
       " 13: (2, 11),\n",
       " 14: (3, 11),\n",
       " 15: (2, 13),\n",
       " 16: (6, 10),\n",
       " 17: (6, 11),\n",
       " 18: (2, 16),\n",
       " 19: (2, 17),\n",
       " 20: (10, 10),\n",
       " 21: (10, 11),\n",
       " 22: (11, 11),\n",
       " 23: (2, 21)}"
      ]
     },
     "execution_count": 218,
     "metadata": {},
     "output_type": "execute_result"
    }
   ],
   "source": [
    "solution2"
   ]
  },
  {
   "cell_type": "markdown",
   "metadata": {},
   "source": [
    "### 我太菜了，调了好久啊！😂\n",
    "### 我自闭了，老师用5行代码就写出来了，我写的好繁琐😢"
   ]
  },
  {
   "cell_type": "markdown",
   "metadata": {},
   "source": [
    "```python\n",
    "def r(n):\n",
    "    max_price, split_point = max(\n",
    "        [(price[n], 0)] + [(r(i) + r(n-i), i) for i in range(1, n)], key=lambda x: x[0]\n",
    "    )\n",
    "    solution[n] = (split_point, n - split_point)\n",
    "    return max_price\n",
    "```"
   ]
  },
  {
   "cell_type": "markdown",
   "metadata": {},
   "source": [
    "### 继续进阶！！！ 用装饰器特性写一个通用的缓存装饰器"
   ]
  },
  {
   "cell_type": "code",
   "execution_count": 327,
   "metadata": {},
   "outputs": [],
   "source": [
    "from functools import wraps\n",
    "def cache_decorator(func):\n",
    "    from collections import defaultdict\n",
    "    cache = defaultdict(int)\n",
    "    def _wrap(rodLen):\n",
    "        if cache[rodLen]: res = cache[rodLen]\n",
    "        else:\n",
    "            res = func(rodLen)\n",
    "            cache[rodLen] = res\n",
    "        return res\n",
    "    return _wrap"
   ]
  },
  {
   "cell_type": "code",
   "execution_count": 328,
   "metadata": {},
   "outputs": [],
   "source": [
    "@cache_decorator\n",
    "def getMaxValueWithDecorator(rodLen):\n",
    "    # if rod can not be cut\n",
    "    if rodLen < 1:\n",
    "        print(\"Sorry,your rod can not be cut\")\n",
    "        return 0\n",
    "    if rodLen == 1 :\n",
    "        return rodMaps[1]\n",
    "    # or rod can be cut \n",
    "    maxV,leftV,rightV = rodMaps[rodLen],0,0\n",
    "    for segment in range(1,rodLen):\n",
    "        leftV = rodMaps[segment] if segment <= 11 else getMaxValueWithDecorator(segment)\n",
    "        rightV = rodMaps[rodLen-segment] if rodLen-segment <= 11 else getMaxValueWithDecorator(rodLen-segment)\n",
    "        if leftV + rightV > maxV:\n",
    "            maxV = leftV + rightV\n",
    "    return maxV"
   ]
  },
  {
   "cell_type": "markdown",
   "metadata": {},
   "source": [
    "### 解决了一个疑问，装饰器的_wrap里cache缓存只是在func的外面进行缓存，为啥可以起效果\n",
    "```python\n",
    "getMaxValueWithDecorator = cache_decorator(getMaxValueWithDecorator)\n",
    "%time getMaxValueWithDecorator(123)\n",
    "\n",
    "func = cache_decorator(getMaxValueWithDecorator)\n",
    "%time func(123)\n",
    "```\n",
    "### 经过实验，我的猜想得到证实，上面两种写法是不一样的，只有第一种写法可以起到缓存的效果，而@cache_decorator正是第一种写法的语法糖\n",
    "### 这是为什么呢？\n",
    "### 因为如果加入装饰器后，在赋值给自己，那么其实相当于内部函数名和调用函数名相同，这样就达到了内部递归的效果\n",
    "### 但是如果是赋值给不相同的名字，那么就好比一个函数里调用另一个函数，这样cache就不能在内部递归，进而失效"
   ]
  },
  {
   "cell_type": "code",
   "execution_count": 323,
   "metadata": {},
   "outputs": [
    {
     "name": "stdout",
     "output_type": "stream",
     "text": [
      "Wall time: 0 ns\n"
     ]
    },
    {
     "data": {
      "text/plain": [
       "369"
      ]
     },
     "execution_count": 323,
     "metadata": {},
     "output_type": "execute_result"
    }
   ],
   "source": [
    "%time getMaxValueWithDecorator(123)"
   ]
  },
  {
   "cell_type": "markdown",
   "metadata": {},
   "source": [
    "```python\n",
    "from functools import wraps\n",
    "original_price = [1, 5, 8, 9, 10, 17, 17, 20, 24, 30, 33]\n",
    "price = defaultdict(int)\n",
    "for i, p in enumerate(original_price):\n",
    "    price[i+1] = p\n",
    "def memo(func):\n",
    "    cache = {}\n",
    "    @wraps(func)\n",
    "    def _wrap(n): ## ? *args, **kwargs\n",
    "        if n in cache: result = cache[n]\n",
    "        else:\n",
    "            result = func(n)\n",
    "            cache[n] = result\n",
    "        return result\n",
    "    return _wrap\n",
    "\n",
    "\n",
    "@memo\n",
    "def r(n):\n",
    "    max_price, split_point = max(\n",
    "        [(price[n], 0)] + [(r(i) + r(n-i), i) for i in range(1, n)], key=lambda x: x[0]\n",
    "    )\n",
    "    solution[n] = (split_point, n - split_point)\n",
    "    \n",
    "    return max_price\n",
    "```"
   ]
  }
 ],
 "metadata": {
  "kernelspec": {
   "display_name": "Python 3",
   "language": "python",
   "name": "python3"
  },
  "language_info": {
   "codemirror_mode": {
    "name": "ipython",
    "version": 3
   },
   "file_extension": ".py",
   "mimetype": "text/x-python",
   "name": "python",
   "nbconvert_exporter": "python",
   "pygments_lexer": "ipython3",
   "version": "3.8.5"
  },
  "latex_envs": {
   "LaTeX_envs_menu_present": true,
   "autoclose": false,
   "autocomplete": true,
   "bibliofile": "biblio.bib",
   "cite_by": "apalike",
   "current_citInitial": 1,
   "eqLabelWithNumbers": true,
   "eqNumInitial": 1,
   "hotkeys": {
    "equation": "Ctrl-E",
    "itemize": "Ctrl-I"
   },
   "labels_anchors": false,
   "latex_user_defs": false,
   "report_style_numbering": false,
   "user_envs_cfg": false
  }
 },
 "nbformat": 4,
 "nbformat_minor": 4
}
