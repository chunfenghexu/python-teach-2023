{
 "cells": [
  {
   "cell_type": "markdown",
   "metadata": {},
   "source": [
    "# 数据结构与算法\n",
    "\n",
    "**数据结构**\n",
    "- 顺序表与链表（线性表）\n",
    "- 栈与队列\n",
    "- 树与二叉树\n",
    "- 图\n",
    "- 与查找相关的数据结构（二叉排序树，平衡二叉树，哈希表等）\n",
    "- 十大排序算法\n",
    "\n",
    "**算法相关**\n",
    "- 算法分析（大O表示法）\n",
    "- 分治算法\n",
    "- 动态规划\n",
    "- 回溯算法\n",
    "- 贪心算法\n",
    "- 分支限界法\n",
    "- 随机算法（扩展）\n",
    "- 启发式算法（遗传算法、蚁群算法、A\\*算法等）"
   ]
  },
  {
   "cell_type": "markdown",
   "metadata": {},
   "source": [
    "# O,$\\Omega$,o,w表示法的含义\n",
    "\n",
    "- 大O表示渐进上界\n",
    "- 小o表示非渐进紧确的上界\n",
    "- $\\Omega$表示渐进下界\n",
    "- w表示非渐进紧确的下界\n",
    "\n",
    "f(n)=Θ(g(n)) ⇔ f(n)=O(g(n)) 且f(n)=Ω(g(n))  那么g(n)就是f(n)的紧确界"
   ]
  },
  {
   "cell_type": "markdown",
   "metadata": {},
   "source": [
    "# 什么意思呢？画一个图就知道了"
   ]
  },
  {
   "cell_type": "code",
   "execution_count": 7,
   "metadata": {},
   "outputs": [
    {
     "data": {
      "text/plain": [
       "[<matplotlib.lines.Line2D at 0x1e1de0eb880>]"
      ]
     },
     "execution_count": 7,
     "metadata": {},
     "output_type": "execute_result"
    },
    {
     "data": {
      "image/png": "[encoded data removed]",
      "text/plain": [
       "<Figure size 432x288 with 1 Axes>"
      ]
     },
     "metadata": {
      "needs_background": "light"
     },
     "output_type": "display_data"
    }
   ],
   "source": [
    "%matplotlib inline\n",
    "import matplotlib.pyplot as plt\n",
    "import numpy as np\n",
    "\n",
    "f = lambda x:x\n",
    "f2 = lambda x:x-1\n",
    "f3 = lambda x:x+1\n",
    "f4 = lambda x:np.log2(x)\n",
    "f5 = lambda x:2**x\n",
    "\n",
    "x = np.linspace(1,3,100)\n",
    "plt.axis('equal')\n",
    "plt.plot(x,f(x))\n",
    "plt.plot(x,f2(x))\n",
    "plt.plot(x,f3(x))\n",
    "plt.plot(x,f4(x))\n",
    "plt.plot(x,f5(x))"
   ]
  },
  {
   "cell_type": "code",
   "execution_count": 1,
   "metadata": {},
   "outputs": [],
   "source": [
    "%matplotlib inline\n",
    "import matplotlib.pyplot as plt"
   ]
  },
  {
   "cell_type": "code",
   "execution_count": 2,
   "metadata": {},
   "outputs": [],
   "source": [
    "import numpy as np"
   ]
  },
  {
   "cell_type": "code",
   "execution_count": 12,
   "metadata": {},
   "outputs": [
    {
     "name": "stderr",
     "output_type": "stream",
     "text": [
      "<ipython-input-12-3eecab9531ca>:4: RuntimeWarning: divide by zero encountered in log2\n",
      "  return np.log2(x)\n"
     ]
    },
    {
     "data": {
      "text/plain": [
       "[<matplotlib.lines.Line2D at 0x1907a5f71c0>]"
      ]
     },
     "execution_count": 12,
     "metadata": {},
     "output_type": "execute_result"
    },
    {
     "data": {
      "image/png": "[encoded data removed]",
      "text/plain": [
       "<Figure size 432x288 with 1 Axes>"
      ]
     },
     "metadata": {
      "needs_background": "light"
     },
     "output_type": "display_data"
    }
   ],
   "source": [
    "def f(x):\n",
    "    return x\n",
    "def w(x):\n",
    "    return np.log2(x)\n",
    "def Omega(x):\n",
    "    return x - 1\n",
    "def O(x):\n",
    "    return x + 1\n",
    "def o(x):\n",
    "    return 2**x\n",
    "x = np.linspace(0,3,100)\n",
    "plt.axis('equal')\n",
    "plt.plot(x,f(x))\n",
    "plt.plot(x,w(x))\n",
    "plt.plot(x,O(x))\n",
    "plt.plot(x,o(x))\n",
    "plt.plot(x,Omega(x))\n"
   ]
  },
  {
   "cell_type": "markdown",
   "metadata": {},
   "source": [
    "# 算法分析\n"
   ]
  },
  {
   "cell_type": "markdown",
   "metadata": {},
   "source": [
    "# 以插入排序为例，非递归算法的复杂度分析原理\n",
    "\n",
    "![](./images/插入排序.PNG)\n",
    "![](./images/插入排序图解.PNG)\n",
    "![](./images/插入排序算法分析1.PNG)\n",
    "![](./images/插入排序算法分析2.PNG)\n",
    "![](./images/插入排序算法分析3.PNG)\n",
    "![](./images/插入排序算法分析4.PNG)\n",
    "![](./images/插入排序算法分析5.PNG)"
   ]
  },
  {
   "cell_type": "markdown",
   "metadata": {},
   "source": [
    "# 练习1\n",
    "```python\n",
    "算法 MaxElement(A[0..n-1]\n",
    "//求给定数组中的最大元素\n",
    "//输入：实数数组A[0..n-1]\n",
    "//输出：A中的最大元素\n",
    "maxval ←A[0]\n",
    "for i ← 1 to n-1 do\n",
    "    if A[i] > maxval\n",
    "        maxval ← A[i]\n",
    "return maxval\n",
    "```\n",
    "# 练习2\n",
    "```python\n",
    "算法 UniqueElements(A[0..n-1]\n",
    "//验证给定数组中的元素是否全部唯一\n",
    "//输入：实数数组A[0..n-1]\n",
    "//输出：如果A中的元素全部唯一，返回“true”，否则，返回“false”\n",
    "for i←0 to n-2 do\n",
    "    for j←i +1 to n-1 do\n",
    "        if A[i] = A[j]  return false\n",
    "return true\n",
    "```"
   ]
  },
  {
   "cell_type": "markdown",
   "metadata": {},
   "source": [
    "# 以归并排序为例，分治型递归算法复杂度分析\n",
    "![](./images/分治算法模式.PNG)\n",
    "![](./images/归并排序.PNG)\n",
    "![](./images/归并排序伪代码.PNG)\n",
    "![](./images/归并算法伪代码2.PNG)\n",
    "![](./images/归并算法图解.PNG)\n",
    "![](./images/归并排序复杂度递推式.PNG)\n",
    "![](./images/归并排序复杂度分析2.PNG)\n",
    "![](./images/归并排序复杂度分析图解.PNG)\n",
    "![](./images/归并排序复杂度分析.PNG)"
   ]
  },
  {
   "cell_type": "markdown",
   "metadata": {},
   "source": [
    "我们假设推导了 x 次 使得 n = 1\n",
    "$$\n",
    "T(n) = 2( 2 T (\\frac{n}{4})  + f(\\frac{n}{2}) ) + f(n) \\\\\n",
    "T(n) = 4 T (\\frac{n}{4})  + 2 f(\\frac{n}{2})  + f(n) \\\\\n",
    "\\frac{n}{2^x} = 1 \\\\\n",
    "x = log_2{n}\n",
    "$$"
   ]
  },
  {
   "cell_type": "markdown",
   "metadata": {},
   "source": [
    "# 如果将上述公式在抽象一下，变为一般形式\n",
    "![](./images/分治型算法复杂度推导公式.PNG) "
   ]
  },
  {
   "cell_type": "markdown",
   "metadata": {},
   "source": [
    "规模 N  \n",
    "F( N / 2 )  a = 1 b = 2\n",
    "f(N) = (N / 2) ^ 2 = O(N^2)\n",
    "\n",
    "$$\n",
    "T(n) = O(1) + \\sum_{j=0}^{log_2n - 1}f(\\frac{n}{2^j}) \\\\\n",
    "T(n) = O(1) + \\label{}sum_{j=0}^{log_2n - 1}f(\\frac{n}{2^j}) \\\\\n",
    "l\n",
    "$$"
   ]
  },
  {
   "cell_type": "code",
   "execution_count": null,
   "metadata": {},
   "outputs": [],
   "source": [
    "n = int(input())\n",
    "N = 2 ** n\n",
    "matrix = [[0 for i in range(N)] for i in range(N)]\n",
    "def F(n):\n",
    "    if n == 0 : \n",
    "        matrix[0][0] = 1\n",
    "    else:\n",
    "        p = 2 ** (n-1)\n",
    "        # 处理下一层\n",
    "        F(n-1)\n",
    "        # 处理完,进行当前层的拼接\n",
    "        # 把左上角矩阵 + 2**(n-1) ，向右边平移 2**n\n",
    "        # 把左上角矩阵 + 2**(n-1) ，向下边平移 2**n\n",
    "        # 复制到对角线\n",
    "        for i in range(0,p): # p = N / 2  \n",
    "            for j in range(0,p):\n",
    "                matrix[i][j+p] = matrix[i][j] + 2**(n-1)\n",
    "                matrix[i+p][j] = matrix[i][j] + 2**(n-1)\n",
    "                matrix[i+p][j+p] = matrix[i][j] \n",
    "\n",
    "F(n)\n",
    "for i in range(0,N):\n",
    "    print(matrix[i])"
   ]
  },
  {
   "cell_type": "markdown",
   "metadata": {},
   "source": [
    "# 这个题可以用非分治型递归算法的公式来算\n",
    "$$\n",
    "a = 1  \\\\\n",
    "F(n) = (\\frac{n}{2})^2    \\\\\n",
    "N = 2^n ->  n = log_2^N \\\\\n",
    "$$\n",
    "我们可以按规模为 n 计算，然后根据 N 和 n的关系，算出来规模为 N的复杂度\n",
    "$$\n",
    "T(n) = 1^{n-1}T(1) + \\sum_{j=2}^{n} 1^{n-j}f(j) \\\\\n",
    "T(n) = T(1) + \\sum_{j=2}^{n} \\frac{j^2}{4} \\\\\n",
    "T(n) = \\frac{4(1-4^{n-1})}{1-4} = O(4^n) = O(4^{log_2^N}) =O(N^{log_2^4}) = O(N^2) \n",
    "$$"
   ]
  },
  {
   "cell_type": "markdown",
   "metadata": {},
   "source": [
    "# 复杂度越高，算法随规模N的增长，需要执行的次数越多，相应的性能越低，时间开销越大"
   ]
  },
  {
   "cell_type": "markdown",
   "metadata": {},
   "source": [
    "$$\n",
    "T(n) = aT(\\frac{n}{b})+f(n) \\\\\n",
    "T(n) = a[aT(\\frac{n}{b^2})+f(\\frac{n}{b})] + f(n) \\\\\n",
    "T(n) = a^2T(\\frac{n}{b^2})+af(\\frac{n}{b}) + f(n)\n",
    "$$"
   ]
  },
  {
   "cell_type": "markdown",
   "metadata": {},
   "source": [
    "# 以汉诺塔问题为例，非分治型递归算法复杂度分析\n",
    "\n",
    "问题描述：\n",
    "**有a,b,c三个柱子和n个按size从小到大排列的盘子，开始时所有盘子都套在a柱子上，设计一种算法，将所有盘子按size从小到大套到c柱子上，要求是只能一个盘子一个盘子的搬运，不能一次拿多个**\n",
    "![](./images/汉诺塔问题.PNG)\n"
   ]
  },
  {
   "cell_type": "markdown",
   "metadata": {},
   "source": [
    "# 作业1 ：下去把这个代码写成python，然后跑一下看看"
   ]
  },
  {
   "cell_type": "code",
   "execution_count": 2,
   "metadata": {},
   "outputs": [],
   "source": [
    "def move(a,c):\n",
    "    print('{} -> {}'.format(a,c))"
   ]
  },
  {
   "cell_type": "markdown",
   "metadata": {},
   "source": [
    "# 编码（汉诺塔）"
   ]
  },
  {
   "cell_type": "markdown",
   "metadata": {},
   "source": [
    "![](./images/非分治递归算法复杂度递推式.PNG)"
   ]
  },
  {
   "cell_type": "markdown",
   "metadata": {},
   "source": [
    "# 作业2： 下去自己推导一下这里的复杂度分析公式"
   ]
  },
  {
   "cell_type": "markdown",
   "metadata": {},
   "source": [
    "# 练习3\n",
    "```c\n",
    "int factorial(int n){\n",
    "    if(n==0) return 1;\n",
    "    return n*factorial(n-1);\n",
    "}\n",
    "```\n",
    "# 练习 4\n",
    "```c\n",
    "int fibonacci(int n) {\n",
    "       if (n <= 1) return n;\n",
    "       return fibonacci(n-1)+fibonacci(n-2);\n",
    "}\n",
    "```\n"
   ]
  },
  {
   "cell_type": "markdown",
   "metadata": {},
   "source": [
    "# 复杂度的阶对比\n",
    "$$\n",
    "O(1) < O(logn) < O(n) < O(nlogn) < O(n^2) < O(n^3) < ... < O(2^n) < ... < O(n^n)\n",
    "$$\n",
    "指数阶的复杂度往往来说不可接受，一旦问题输入规模N很大时，问题就无法在可接受时间内求解出来。因此具有指数阶的问题往往被称为 NP困难问题，这也是目前计算机技术领域一直研究的方向，如果你能提出一个可以突破 NP困难问题 的算法，那可以直接保送博士了。\n",
    "\n",
    "对于现在世界纷繁复杂，又庞大的数据量，我们提出的很多智能算法，很大程度上区别于这些传统的经典算法，而是加入了概率论与统计学的思想，使得问题的算法模型简化，相比于求解精确解，这些智能算法往往求的是近似解，这使得算法的复杂度降到了可解范围。"
   ]
  },
  {
   "cell_type": "markdown",
   "metadata": {},
   "source": [
    "# 画一个图来直观的看看不同阶之间的性能差异"
   ]
  }
 ],
 "metadata": {
  "kernelspec": {
   "display_name": "Python 3",
   "language": "python",
   "name": "python3"
  },
  "language_info": {
   "codemirror_mode": {
    "name": "ipython",
    "version": 3
   },
   "file_extension": ".py",
   "mimetype": "text/x-python",
   "name": "python",
   "nbconvert_exporter": "python",
   "pygments_lexer": "ipython3",
   "version": "3.8.5"
  },
  "latex_envs": {
   "LaTeX_envs_menu_present": true,
   "autoclose": false,
   "autocomplete": true,
   "bibliofile": "biblio.bib",
   "cite_by": "apalike",
   "current_citInitial": 1,
   "eqLabelWithNumbers": true,
   "eqNumInitial": 1,
   "hotkeys": {
    "equation": "Ctrl-E",
    "itemize": "Ctrl-I"
   },
   "labels_anchors": false,
   "latex_user_defs": false,
   "report_style_numbering": false,
   "user_envs_cfg": false
  },
  "toc-autonumbering": false,
  "toc-showmarkdowntxt": false
 },
 "nbformat": 4,
 "nbformat_minor": 4
}
