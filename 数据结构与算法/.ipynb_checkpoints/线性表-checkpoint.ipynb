{
 "cells": [
  {
   "cell_type": "markdown",
   "metadata": {},
   "source": [
    "# 线性表\n",
    "线性表是一种最常用且最简单的一种数据结构。简言之，一个线性表就是n个数据元素的有限序列。一般来说，线性表有两种表示方式：\n",
    "- 顺序表，比如我们常用的List就是顺序表\n",
    "- 链式表，我们自己来构建一个"
   ]
  },
  {
   "cell_type": "code",
   "execution_count": 3,
   "metadata": {},
   "outputs": [],
   "source": [
    "from tqdm import tqdm_notebook"
   ]
  },
  {
   "cell_type": "code",
   "execution_count": 4,
   "metadata": {},
   "outputs": [],
   "source": [
    "import time"
   ]
  },
  {
   "cell_type": "code",
   "execution_count": 5,
   "metadata": {},
   "outputs": [],
   "source": [
    "def thinkOrRest(timeNum):\n",
    "    for i in tqdm_notebook(range(timeNum)):\n",
    "       time.sleep(1) "
   ]
  },
  {
   "cell_type": "code",
   "execution_count": 6,
   "metadata": {},
   "outputs": [
    {
     "name": "stderr",
     "output_type": "stream",
     "text": [
      "<ipython-input-5-c80df90d0a1c>:2: TqdmDeprecationWarning: This function will be removed in tqdm==5.0.0\n",
      "Please use `tqdm.notebook.tqdm` instead of `tqdm.tqdm_notebook`\n",
      "  for i in tqdm_notebook(range(timeNum)):\n"
     ]
    },
    {
     "data": {
      "application/vnd.jupyter.widget-view+json": {
       "model_id": "ab4d6e7e07124c06a9c94093b1569944",
       "version_major": 2,
       "version_minor": 0
      },
      "text/plain": [
       "  0%|          | 0/60 [00:00<?, ?it/s]"
      ]
     },
     "metadata": {},
     "output_type": "display_data"
    }
   ],
   "source": [
    "thinkOrRest(60)"
   ]
  },
  {
   "cell_type": "code",
   "execution_count": 1,
   "metadata": {},
   "outputs": [],
   "source": [
    "L = [1,2,3,4]\n",
    "new_L = L"
   ]
  },
  {
   "cell_type": "code",
   "execution_count": 2,
   "metadata": {},
   "outputs": [
    {
     "data": {
      "text/plain": [
       "True"
      ]
     },
     "execution_count": 2,
     "metadata": {},
     "output_type": "execute_result"
    }
   ],
   "source": [
    "new_L is L"
   ]
  },
  {
   "cell_type": "code",
   "execution_count": 4,
   "metadata": {},
   "outputs": [
    {
     "name": "stdout",
     "output_type": "stream",
     "text": [
      "['__add__', '__class__', '__contains__', '__delattr__', '__delitem__', '__dir__', '__doc__', '__eq__', '__format__', '__ge__', '__getattribute__', '__getitem__', '__gt__', '__hash__', '__iadd__', '__imul__', '__init__', '__init_subclass__', '__iter__', '__le__', '__len__', '__lt__', '__mul__', '__ne__', '__new__', '__reduce__', '__reduce_ex__', '__repr__', '__reversed__', '__rmul__', '__setattr__', '__setitem__', '__sizeof__', '__str__', '__subclasshook__', 'append', 'clear', 'copy', 'count', 'extend', 'index', 'insert', 'pop', 'remove', 'reverse', 'sort']\n",
      "['__bool__', '__class__', '__delattr__', '__dir__', '__doc__', '__eq__', '__format__', '__ge__', '__getattribute__', '__gt__', '__hash__', '__init__', '__init_subclass__', '__le__', '__lt__', '__ne__', '__new__', '__reduce__', '__reduce_ex__', '__repr__', '__setattr__', '__sizeof__', '__str__', '__subclasshook__']\n"
     ]
    },
    {
     "ename": "AttributeError",
     "evalue": "'NoneType' object has no attribute 'append'",
     "output_type": "error",
     "traceback": [
      "\u001b[1;31m---------------------------------------------------------------------------\u001b[0m",
      "\u001b[1;31mAttributeError\u001b[0m                            Traceback (most recent call last)",
      "\u001b[1;32m<ipython-input-4-13fc4a0adf42>\u001b[0m in \u001b[0;36m<module>\u001b[1;34m\u001b[0m\n\u001b[0;32m      4\u001b[0m \u001b[0mprint\u001b[0m\u001b[1;33m(\u001b[0m\u001b[0mdir\u001b[0m\u001b[1;33m(\u001b[0m\u001b[0mL1\u001b[0m\u001b[1;33m)\u001b[0m\u001b[1;33m)\u001b[0m\u001b[1;33m\u001b[0m\u001b[1;33m\u001b[0m\u001b[0m\n\u001b[0;32m      5\u001b[0m \u001b[0mprint\u001b[0m\u001b[1;33m(\u001b[0m\u001b[0mdir\u001b[0m\u001b[1;33m(\u001b[0m\u001b[0mL2\u001b[0m\u001b[1;33m)\u001b[0m\u001b[1;33m)\u001b[0m\u001b[1;33m\u001b[0m\u001b[1;33m\u001b[0m\u001b[0m\n\u001b[1;32m----> 6\u001b[1;33m \u001b[0mL2\u001b[0m\u001b[1;33m.\u001b[0m\u001b[0mappend\u001b[0m\u001b[1;33m(\u001b[0m\u001b[1;36m1\u001b[0m\u001b[1;33m)\u001b[0m\u001b[1;33m\u001b[0m\u001b[1;33m\u001b[0m\u001b[0m\n\u001b[0m",
      "\u001b[1;31mAttributeError\u001b[0m: 'NoneType' object has no attribute 'append'"
     ]
    }
   ],
   "source": [
    "L1 = []\n",
    "L2 = None # Object\n",
    "L1.append(1)\n",
    "print(dir(L1))\n",
    "print(dir(L2))\n",
    "L2.append(1)"
   ]
  },
  {
   "cell_type": "markdown",
   "metadata": {},
   "source": [
    "# 作业3（选做） 用单向链表去实现一个 L=[1,2,3,4]"
   ]
  },
  {
   "cell_type": "code",
   "execution_count": 1,
   "metadata": {},
   "outputs": [],
   "source": [
    "class LinkNode:\n",
    "    def __init__(self,data,nextNode):\n",
    "        self.data = data\n",
    "        self.nextNode = nextNode\n",
    "class LinkList:\n",
    "    def __init__(self):\n",
    "        self.head = LinkNode(None,None)\n",
    "        self.length = 0\n",
    "    def head_insert(self,newNode):\n",
    "        if self.head.nextNode == None:\n",
    "            # 此时一个节点都还没有插入\n",
    "            self.head.nextNode = newNode\n",
    "            newNode.nextNode = None\n",
    "        else:\n",
    "            headNextNode = self.head.nextNode\n",
    "            newNode.nextNode = headNextNode\n",
    "            self.head.nextNode = newNode\n",
    "        self.length += 1\n",
    "    def tail_insert(self,newNode):\n",
    "        p = self.head\n",
    "        while p.nextNode != None:\n",
    "            p = p.nextNode\n",
    "        p.nextNode = newNode\n",
    "        self.length += 1\n",
    "        newNode.nextNode = None\n",
    "    def remove(self,node):\n",
    "        pnode = self.head\n",
    "        while pnode.nextNode != node:\n",
    "            pnode = pnode.nextNode\n",
    "        pnode.nextNode = node.nextNode\n",
    "        node.nextNode = None\n",
    "        self.length -= 1\n",
    "        return node\n",
    "    # 作业 1： 实现 insetTo 和 insertInt\n",
    "    def removeI(self,i):\n",
    "        pass\n",
    "    def insertI(self,i,newNode):\n",
    "        pass\n",
    "    def insertInt(self,num):\n",
    "        pass\n",
    "    def toString(self):\n",
    "        p = self.head.nextNode\n",
    "        res = \"[\"\n",
    "        while p != None:\n",
    "            res += str(p.data) + \" \"\n",
    "            p = p.nextNode\n",
    "        return res + \"]\"\n"
   ]
  },
  {
   "cell_type": "code",
   "execution_count": 17,
   "metadata": {},
   "outputs": [
    {
     "name": "stdout",
     "output_type": "stream",
     "text": [
      "[]\n",
      "[2 1 3 ]\n",
      "True\n",
      "[2 3 ]\n"
     ]
    }
   ],
   "source": [
    "L = LinkList()\n",
    "node1 = LinkNode(1,None)\n",
    "node2 = LinkNode(2,None)\n",
    "node3 = LinkNode(3,None)\n",
    "print(L.toString())\n",
    "L.head_insert(node1)\n",
    "L.head_insert(node2)\n",
    "L.tail_insert(node3)\n",
    "print(L.toString())\n",
    "node = L.remove(node1)\n",
    "print(node is node1)\n",
    "print(L.toString())"
   ]
  },
  {
   "cell_type": "markdown",
   "metadata": {},
   "source": [
    "# 作业2：\n",
    "- https://leetcode-cn.com/problems/delete-middle-node-lcci/\n",
    "- https://leetcode-cn.com/problems/kth-node-from-end-of-list-lcci/"
   ]
  },
  {
   "cell_type": "markdown",
   "metadata": {},
   "source": [
    "# 链表题目练习\n",
    "\n",
    "- https://leetcode-cn.com/problems/merge-two-sorted-lists/\n",
    "- https://leetcode-cn.com/problems/palindrome-linked-list/"
   ]
  },
  {
   "cell_type": "markdown",
   "metadata": {},
   "source": [
    "# 本次作业1： \n",
    "- 中等题 https://leetcode-cn.com/problems/rotate-list/?um_chnnl=leetcode?um_from_appkey=5fcda41c42348b56d6f8e8d5\n",
    "- 中等题 https://leetcode-cn.com/problems/add-two-numbers/?um_chnnl=leetcode?um_from_appkey=5fcda41c42348b56d6f8e8d5\n",
    "- 困难题（选做） https://leetcode-cn.com/problems/merge-k-sorted-lists/?um_chnnl=leetcode?um_from_appkey=5fcda41c42348b56d6f8e8d5"
   ]
  },
  {
   "cell_type": "markdown",
   "metadata": {},
   "source": [
    "# 循环链表\n",
    "单链表和循环链表中节点的数据结构是否相同？ 答案：是相同的"
   ]
  },
  {
   "cell_type": "code",
   "execution_count": 34,
   "metadata": {},
   "outputs": [],
   "source": [
    "class CircleList:\n",
    "    def __init__(self):\n",
    "        # 初始化\n",
    "        self.head = LinkNode(None,None)\n",
    "        self.tail = self.head\n",
    "        self.head.nextNode = self.tail\n",
    "        self.length = 0\n",
    "    def head_insert(self,newNode):\n",
    "        if self.head.nextNode == self.head:\n",
    "            #说明此时循环链表为空\n",
    "            print(\"emptyList insert \"+ str(newNode.data))\n",
    "            newNode.nextNode = self.head\n",
    "            self.head.nextNode = newNode\n",
    "            self.tail = newNode\n",
    "        else:\n",
    "            # 循环链表不为空时\n",
    "            newNode.nextNode = self.head.nextNode\n",
    "            self.head.nextNode = newNode\n",
    "    def remove(self,oldNode):\n",
    "        # 这个也得分两种情况\n",
    "        # 中间节点\n",
    "        # 还是末尾的节点\n",
    "        # 经过分析，两种情况可以合二为一\n",
    "        pnode = self.head\n",
    "        while pnode.nextNode != oldNode:\n",
    "            pnode = pnode.nextNode\n",
    "        pnode.nextNode = oldNode.nextNode\n",
    "        oldNode.nextNode = None\n",
    "        self.tail = pnode if oldNode == self.tail else self.tail\n",
    "        self.length -= 1\n",
    "    # 本次作业 ： insertTo removeFrom\n",
    "    def insertTo(self,i,newNode):\n",
    "        pass\n",
    "    def removeFrom(self,i):\n",
    "        pass\n",
    "    def toString(self):\n",
    "        p = self.head.nextNode\n",
    "        res = \"[\"\n",
    "        while p != self.head:\n",
    "            print(p.data)\n",
    "            res += str(p.data) + \" \"\n",
    "            p = p.nextNode\n",
    "        return res + \"]\"\n",
    "            "
   ]
  },
  {
   "cell_type": "code",
   "execution_count": 32,
   "metadata": {},
   "outputs": [
    {
     "name": "stdout",
     "output_type": "stream",
     "text": [
      "emptyList insert 1\n",
      "3\n",
      "2\n",
      "1\n",
      "[3 2 1 ]\n",
      "2\n",
      "1\n",
      "[2 1 ]\n",
      "2\n",
      "[2 ]\n"
     ]
    }
   ],
   "source": [
    "CList = CircleList()\n",
    "node1 = LinkNode(1,None)\n",
    "node2 = LinkNode(2,None)\n",
    "node3 = LinkNode(3,None)\n",
    "CList.head_insert(node1)\n",
    "CList.head_insert(node2)\n",
    "CList.head_insert(node3)\n",
    "print(CList.toString())\n",
    "CList.remove(node3)\n",
    "print(CList.toString())\n",
    "CList.remove(node1)\n",
    "print(CList.toString())"
   ]
  },
  {
   "cell_type": "code",
   "execution_count": 19,
   "metadata": {},
   "outputs": [
    {
     "data": {
      "text/plain": [
       "['__class__',\n",
       " '__delattr__',\n",
       " '__dict__',\n",
       " '__dir__',\n",
       " '__doc__',\n",
       " '__eq__',\n",
       " '__format__',\n",
       " '__ge__',\n",
       " '__getattribute__',\n",
       " '__gt__',\n",
       " '__hash__',\n",
       " '__init__',\n",
       " '__init_subclass__',\n",
       " '__le__',\n",
       " '__lt__',\n",
       " '__module__',\n",
       " '__ne__',\n",
       " '__new__',\n",
       " '__reduce__',\n",
       " '__reduce_ex__',\n",
       " '__repr__',\n",
       " '__setattr__',\n",
       " '__sizeof__',\n",
       " '__str__',\n",
       " '__subclasshook__',\n",
       " '__weakref__',\n",
       " 'data',\n",
       " 'nextNdde',\n",
       " 'nextNode']"
      ]
     },
     "execution_count": 19,
     "metadata": {},
     "output_type": "execute_result"
    }
   ],
   "source": [
    "dir(CList.head)"
   ]
  },
  {
   "cell_type": "code",
   "execution_count": 6,
   "metadata": {},
   "outputs": [
    {
     "name": "stderr",
     "output_type": "stream",
     "text": [
      "<ipython-input-5-c80df90d0a1c>:2: TqdmDeprecationWarning: This function will be removed in tqdm==5.0.0\n",
      "Please use `tqdm.notebook.tqdm` instead of `tqdm.tqdm_notebook`\n",
      "  for i in tqdm_notebook(range(timeNum)):\n"
     ]
    },
    {
     "data": {
      "application/vnd.jupyter.widget-view+json": {
       "model_id": "0fcda2033d8c4b7ab8401d39773b39cb",
       "version_major": 2,
       "version_minor": 0
      },
      "text/plain": [
       "  0%|          | 0/120 [00:00<?, ?it/s]"
      ]
     },
     "metadata": {},
     "output_type": "display_data"
    }
   ],
   "source": [
    "thinkOrRest(60*2)"
   ]
  },
  {
   "cell_type": "markdown",
   "metadata": {},
   "source": [
    "# 本次作业： \n",
    "- https://leetcode-cn.com/problems/linked-list-cycle/"
   ]
  },
  {
   "cell_type": "code",
   "execution_count": 8,
   "metadata": {},
   "outputs": [],
   "source": [
    "class Solution(object):\n",
    "    def hasCycle(self, head):\n",
    "        \"\"\"\n",
    "        :type head: ListNode\n",
    "        :rtype: bool\n",
    "        \"\"\"\n",
    "        # O(n)空间复杂度来解决这个问题\n",
    "        v = []\n",
    "        p = head\n",
    "        while(p!=None):\n",
    "            if p in v:\n",
    "                break\n",
    "            else:\n",
    "               v.append(p)\n",
    "               p = p.next\n",
    "        else:\n",
    "            return False\n",
    "        return True"
   ]
  },
  {
   "cell_type": "code",
   "execution_count": 7,
   "metadata": {},
   "outputs": [],
   "source": [
    "class Solution(object):\n",
    "    def hasCycle(self, head):\n",
    "        \"\"\"\n",
    "        :type head: ListNode\n",
    "        :rtype: bool\n",
    "        \"\"\"\n",
    "        if head==None:return False\n",
    "        slowR = head\n",
    "        if head.next==None:return False\n",
    "        fastR = head.next.next\n",
    "        while(not (fastR == None or fastR == slowR)):\n",
    "            slowR = slowR.next\n",
    "            if fastR.next==None:break\n",
    "            fastR = fastR.next.next\n",
    "        else:\n",
    "            if fastR == None:return False\n",
    "            elif fastR == slowR:return True\n",
    "        return False"
   ]
  },
  {
   "cell_type": "markdown",
   "metadata": {},
   "source": [
    "# 双向链表\n",
    "\n",
    "# 本次作业三：去尝试像我构建LinkList和CircleList一样构建一下DoubleList\n",
    "\n",
    "**注意：双向链表的节点数据结构和上面的不一样，它有data数据域 与 pre和next指针域**"
   ]
  },
  {
   "cell_type": "markdown",
   "metadata": {},
   "source": [
    "# 练习\n",
    "- https://leetcode-cn.com/problems/palindrome-linked-list/\n",
    "- https://leetcode-cn.com/problems/reverse-linked-list/"
   ]
  },
  {
   "cell_type": "code",
   "execution_count": 4,
   "metadata": {},
   "outputs": [
    {
     "name": "stdout",
     "output_type": "stream",
     "text": [
      "1\n",
      "over\n"
     ]
    }
   ],
   "source": [
    "flag = 0\n",
    "while(flag!=5):\n",
    "#     if flag == 2:\n",
    "#         break\n",
    "    flag += 1\n",
    "else:\n",
    "    print(\"1\")\n",
    "print(\"over\")"
   ]
  },
  {
   "cell_type": "code",
   "execution_count": 6,
   "metadata": {},
   "outputs": [
    {
     "ename": "TypeError",
     "evalue": "'NoneType' object is not subscriptable",
     "output_type": "error",
     "traceback": [
      "\u001b[1;31m---------------------------------------------------------------------------\u001b[0m",
      "\u001b[1;31mTypeError\u001b[0m                                 Traceback (most recent call last)",
      "\u001b[1;32m<ipython-input-6-53d9ef5d5ef6>\u001b[0m in \u001b[0;36m<module>\u001b[1;34m\u001b[0m\n\u001b[0;32m      2\u001b[0m     \u001b[1;34m'name'\u001b[0m\u001b[1;33m:\u001b[0m\u001b[1;32mNone\u001b[0m\u001b[1;33m\u001b[0m\u001b[1;33m\u001b[0m\u001b[0m\n\u001b[0;32m      3\u001b[0m }\n\u001b[1;32m----> 4\u001b[1;33m \u001b[0mprint\u001b[0m\u001b[1;33m(\u001b[0m\u001b[0mobj\u001b[0m\u001b[1;33m[\u001b[0m\u001b[1;34m'name'\u001b[0m\u001b[1;33m]\u001b[0m\u001b[1;33m[\u001b[0m\u001b[1;34m'name'\u001b[0m\u001b[1;33m]\u001b[0m\u001b[1;33m)\u001b[0m\u001b[1;33m\u001b[0m\u001b[1;33m\u001b[0m\u001b[0m\n\u001b[0m",
      "\u001b[1;31mTypeError\u001b[0m: 'NoneType' object is not subscriptable"
     ]
    }
   ],
   "source": [
    "obj = {\n",
    "    'name':None\n",
    "}\n",
    "print(obj['name']['name'])"
   ]
  },
  {
   "cell_type": "code",
   "execution_count": 11,
   "metadata": {},
   "outputs": [
    {
     "data": {
      "text/plain": [
       "91374481"
      ]
     },
     "execution_count": 11,
     "metadata": {},
     "output_type": "execute_result"
    }
   ],
   "source": [
    "len(L) ** 2"
   ]
  },
  {
   "cell_type": "code",
   "execution_count": 12,
   "metadata": {},
   "outputs": [],
   "source": [
    "L = [i for i in range(10)]"
   ]
  },
  {
   "cell_type": "code",
   "execution_count": 13,
   "metadata": {},
   "outputs": [
    {
     "data": {
      "text/plain": [
       "[0, 1, 2, 3, 4, 5, 6, 7, 8, 9]"
      ]
     },
     "execution_count": 13,
     "metadata": {},
     "output_type": "execute_result"
    }
   ],
   "source": [
    "a  = len(L)-1 // 2"
   ]
  },
  {
   "cell_type": "code",
   "execution_count": 2,
   "metadata": {},
   "outputs": [
    {
     "name": "stdout",
     "output_type": "stream",
     "text": [
      "[]\n",
      "[2 1 3 4 ]\n"
     ]
    }
   ],
   "source": [
    "L1 = LinkList()\n",
    "node1 = LinkNode(1,None)\n",
    "node2 = LinkNode(2,None)\n",
    "node3 = LinkNode(3,None)\n",
    "node4 = LinkNode(4,None)\n",
    "print(L1.toString())\n",
    "L1.head_insert(node1)\n",
    "L1.head_insert(node2)\n",
    "L1.tail_insert(node3)\n",
    "L1.tail_insert(node4)\n",
    "print(L1.toString())"
   ]
  },
  {
   "cell_type": "code",
   "execution_count": 7,
   "metadata": {},
   "outputs": [],
   "source": [
    "p = L1.head.nextNode"
   ]
  },
  {
   "cell_type": "code",
   "execution_count": 13,
   "metadata": {},
   "outputs": [],
   "source": [
    "def recur(currentNode):\n",
    "    global p\n",
    "    if currentNode!=None:\n",
    "        recur(currentNode.nextNode)\n",
    "        print(currentNode.data,p.data)\n",
    "        p = p.nextNode\n",
    "        return False\n",
    "    return True"
   ]
  },
  {
   "cell_type": "code",
   "execution_count": 14,
   "metadata": {},
   "outputs": [
    {
     "name": "stdout",
     "output_type": "stream",
     "text": [
      "4 2\n",
      "3 1\n",
      "1 3\n",
      "2 4\n"
     ]
    },
    {
     "data": {
      "text/plain": [
       "False"
      ]
     },
     "execution_count": 14,
     "metadata": {},
     "output_type": "execute_result"
    }
   ],
   "source": [
    "recur(L1.head.nextNode)"
   ]
  },
  {
   "cell_type": "code",
   "execution_count": 62,
   "metadata": {},
   "outputs": [],
   "source": [
    "class Solution(object):\n",
    "    def __init__(self):\n",
    "        self.pre = None\n",
    "    def isPalindrome(self, head):\n",
    "        \"\"\"\n",
    "        :type head: ListNode\n",
    "        :rtype: bool\n",
    "        \"\"\"\n",
    "        self.pre = head\n",
    "        return self.recur(head)\n",
    "    def recur(self,currentNode):\n",
    "        if currentNode!=None:\n",
    "            if not self.recur(currentNode.next):\n",
    "                return False\n",
    "            print(currentNode.val,self.pre.val)\n",
    "            if currentNode.val != self.pre.val:\n",
    "                return False\n",
    "            self.pre = self.pre.next\n",
    "        return True"
   ]
  },
  {
   "cell_type": "code",
   "execution_count": null,
   "metadata": {},
   "outputs": [],
   "source": []
  }
 ],
 "metadata": {
  "kernelspec": {
   "display_name": "Python 3",
   "language": "python",
   "name": "python3"
  },
  "language_info": {
   "codemirror_mode": {
    "name": "ipython",
    "version": 3
   },
   "file_extension": ".py",
   "mimetype": "text/x-python",
   "name": "python",
   "nbconvert_exporter": "python",
   "pygments_lexer": "ipython3",
   "version": "3.8.5"
  },
  "latex_envs": {
   "LaTeX_envs_menu_present": true,
   "autoclose": false,
   "autocomplete": true,
   "bibliofile": "biblio.bib",
   "cite_by": "apalike",
   "current_citInitial": 1,
   "eqLabelWithNumbers": true,
   "eqNumInitial": 1,
   "hotkeys": {
    "equation": "Ctrl-E",
    "itemize": "Ctrl-I"
   },
   "labels_anchors": false,
   "latex_user_defs": false,
   "report_style_numbering": false,
   "user_envs_cfg": false
  }
 },
 "nbformat": 4,
 "nbformat_minor": 4
}
